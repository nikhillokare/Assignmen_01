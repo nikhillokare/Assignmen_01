{
 "cells": [
  {
   "cell_type": "code",
   "execution_count": 1,
   "id": "702334d1-df2c-4bc8-8a7f-ed48bca09791",
   "metadata": {},
   "outputs": [],
   "source": [
    "# The main difference between a t-test and a z-test is that a t-test is used when the sample size is small or the population standard deviation is unknown, \n",
    "# while a z-test is used when the sample size is large and the population standard deviation is known or can be estimated.\n",
    "\n",
    "# For example, suppose we want to test whether the mean weight of a particular breed of dogs is different from 50 pounds. \n",
    "# If we have a small sample size (say, 20 dogs) and do not know the population standard deviation, we would use a t-test. \n",
    "# If we have a large sample size (say, 500 dogs) and know the population standard deviation (or can estimate it from previous studies), we would use a z-test."
   ]
  },
  {
   "cell_type": "code",
   "execution_count": 2,
   "id": "d5a74f84-b0bd-48d8-bbdd-5f2f5117b0bc",
   "metadata": {},
   "outputs": [],
   "source": [
    "# One-tailed tests are used when the hypothesis is directional, i.e., we want to test whether a particular parameter is either greater than or less than a certain value. \n",
    "# Two-tailed tests are used when the hypothesis is non-directional, i.e., we want to test whether a particular parameter is different from a certain value, without specifying whether \n",
    "# it is greater than or less than that value."
   ]
  },
  {
   "cell_type": "code",
   "execution_count": 3,
   "id": "bbffa40c-5a39-436b-9929-d3a8344a69f9",
   "metadata": {},
   "outputs": [],
   "source": [
    "# Type 1 error is the rejection of a true null hypothesis, while Type 2 error is the failure to reject a false null hypothesis.\n",
    "\n",
    "# For example, suppose we want to test whether a coin is fair (i.e., whether it has a 50/50 chance of coming up heads or tails). \n",
    "# We set up the null hypothesis as \"the coin is fair\" and the alternative hypothesis as \"the coin is not fair.\" If we reject the null hypothesis when it is actually true\n",
    "# (i.e., the coin is fair), we have committed a Type 1 error. If we fail to reject the null hypothesis when it is actually false (i.e., the coin is biased), we have committed a\n",
    "# Type 2 error."
   ]
  },
  {
   "cell_type": "code",
   "execution_count": 4,
   "id": "8984085e-93ac-4533-9128-2ca896f69684",
   "metadata": {},
   "outputs": [],
   "source": [
    "# Bayes's theorem is a mathematical formula that describes the probability of an event based on prior knowledge of related conditions or circumstances.\n",
    "# It is often used in probability theory and statistics to update our beliefs about the likelihood of an event based on new information.\n",
    "\n",
    "# The formula for Bayes's theorem is:\n",
    "\n",
    "# P(A|B) = P(B|A) * P(A) / P(B)\n",
    "\n",
    "# where P(A|B) is the probability of event A occurring given that event B has occurred, P(B|A) is the probability of event B occurring given that event A has occurred, \n",
    "# P(A) is the prior probability of event A, and P(B) is the prior probability of event B.\n",
    "\n",
    "# For example, suppose we want to know the probability that a person has a certain disease given that they have tested positive for it. \n",
    "# Let A be the event \"the person has the disease\" and B be the event \"the person tests positive for the disease.\" We know the following probabilities"
   ]
  },
  {
   "cell_type": "code",
   "execution_count": 5,
   "id": "2db766b7-8b54-460e-9c18-a7d422c1c40e",
   "metadata": {},
   "outputs": [],
   "source": [
    " # A confidence interval is a range of values around a sample statistic, such as a mean or proportion, \n",
    " #    that is likely to contain the true population parameter with a certain degree of confidence.\n",
    " #    It is used to estimate the unknown parameter of the population based on a sample of data.\n",
    "    \n",
    "# For example, suppose you want to estimate the population mean weight of all dogs. You take a random sample of 50 dogs and find that the sample mean weight is 25 kg with a \n",
    "# standard deviation of 4 kg. To calculate a 95% confidence interval for the population mean weight, you would use the formula:\n",
    "\n",
    "# Confidence interval = sample mean ± (critical value x standard error)\n",
    "\n",
    "# The critical value depends on the level of confidence and the sample size, and can be looked up in a table or calculated using a statistical software. \n",
    "# For a 95% confidence level and a sample size of 50, the critical value is approximately 1.96. The standard error can be calculated as:\n",
    "\n",
    "# Standard error = sample standard deviation / sqrt(sample size)\n",
    "\n",
    "# Substituting the values into the formula, we get:\n",
    "\n",
    "# Confidence interval = 25 ± (1.96 x 4 / sqrt(50))\n",
    "# Confidence interval = (23.24, 26.76)"
   ]
  },
  {
   "cell_type": "code",
   "execution_count": 6,
   "id": "44fe0566-7244-4396-bd25-7eaaa7960ed0",
   "metadata": {},
   "outputs": [],
   "source": [
    "# Bayes' Theorem is a mathematical formula that calculates the probability of an event A given the prior probability of A and the new evidence B. The formula is:\n",
    "\n",
    "# P(A|B) = P(B|A) x P(A) / P(B)\n",
    "\n",
    "# where P(A|B) is the posterior probability of A given B, P(B|A) is the probability of B given A, P(A) is the prior probability of A, and P(B) is the probability of B."
   ]
  },
  {
   "cell_type": "code",
   "execution_count": 1,
   "id": "d3b1ce8e-dbfd-470e-af6b-b6c7df8a7682",
   "metadata": {},
   "outputs": [],
   "source": [
    "# Confidence interval = sample mean ± (critical value x standard error)\n",
    "\n",
    "# The critical value for a 95% confidence level is 1.96, and the standard error can be calculated as:\n",
    "\n",
    "# Standard error = standard deviation / sqrt(sample size)\n",
    "# Standard error = 5 / sqrt(n)\n",
    "\n",
    "# Assuming a sample size of 30, the confidence interval is:\n",
    "\n",
    "# Confidence interval = 50 ± (1.96 x 5 / sqrt(30))\n",
    "# Confidence interval = (47.05, 52.95)\n",
    "\n",
    "# Interpretation: We are 95% confident that the true population mean falls within the range of 47.05 to 52.95 based on the sample of 30 data points."
   ]
  },
  {
   "cell_type": "code",
   "execution_count": 2,
   "id": "e2954041-c723-433c-9fc3-0031d78c816a",
   "metadata": {},
   "outputs": [],
   "source": [
    "# The margin of error in a confidence interval is the amount by which the sample statistic (such as the mean or proportion) may differ from the true population parameter. \n",
    "# It represents the precision of the estimate and is affected by the level of confidence, the sample size, and the standard deviation.\n",
    "# The larger the sample size, the smaller the margin of error, as the sample statistic becomes more representative of the population and the standard error decreases."
   ]
  },
  {
   "cell_type": "code",
   "execution_count": 3,
   "id": "ee72d59d-d98f-4164-bb6d-9829aad25cae",
   "metadata": {},
   "outputs": [],
   "source": [
    "# z = (x - mu) / sigma\n",
    "# z = (75 - 70) / 5\n",
    "# z = 1\n",
    "\n",
    "# Interpretation: The data point is 1 standard deviation above the mean."
   ]
  },
  {
   "cell_type": "code",
   "execution_count": 4,
   "id": "a5676306-95d0-4721-8b98-3d694459abfd",
   "metadata": {},
   "outputs": [],
   "source": [
    "# To conduct a hypothesis test to determine if the weight loss drug is significantly effective at a 95% confidence level using a t-test, we first state the null and alternative hypotheses:\n",
    "\n",
    "# Null hypothesis (H0): The true population mean weight loss is not significantly different from 0.\n",
    "# Alternative hypothesis (Ha): The true population mean weight loss is significantly different from 0.\n",
    "\n",
    "# We then calculate the t-value using the formula:\n",
    "\n",
    "# t = (sample mean - hypothesized mean) / (standard error)\n",
    "# standard error = standard deviation / sqrt(sample size)"
   ]
  },
  {
   "cell_type": "code",
   "execution_count": 5,
   "id": "d235488b-8e37-4297-97fb-f91540f059e2",
   "metadata": {},
   "outputs": [],
   "source": [
    "# The sample proportion is p = 0.65 and the sample size is n = 500. The standard error can be calculated as:\n",
    "\n",
    "# standard error = sqrt((p*(1-p))/n) = sqrt((0.65*(1-0.65))/500) = 0.026\n",
    "\n",
    "# Using a z-table for a 95% confidence level, we find the critical values to be ±1.96. The confidence interval can be calculated as:\n",
    "\n",
    "# confidence interval = p ± zstandard error = 0.65 ± 1.960.026 = (0.599, 0.701)\n",
    "\n",
    "# Therefore, we can say with 95% confidence that the true proportion of people who are satisfied with their job is between 59.9% and 70.1%."
   ]
  },
  {
   "cell_type": "code",
   "execution_count": 6,
   "id": "9399b22c-0fd7-4620-92ce-8e21033fc2cd",
   "metadata": {},
   "outputs": [],
   "source": [
    "# The null hypothesis is that there is no significant difference between the two teaching methods, while the alternative hypothesis is that there is\n",
    "# a significant difference. We can use a two-sample t-test assuming unequal variances:\n",
    "\n",
    "# t = (x1 - x2) / sqrt((s1^2/n1) + (s2^2/n2)) = (85 - 82) / sqrt((6^2/50) + (5^2/50)) = 4.08\n",
    "\n",
    "# The degrees of freedom can be approximated as df = (s1^2/n1 + s2^2/n2)^2 / ((s1^2/n1)^2 / (n1-1) + (s2^2/n2)^2 / (n2-1)) = 95.2 (using a calculator or software)\n",
    "\n",
    "# Using a t-table with 95 degrees of freedom and a significance level of 0.01, we find the critical value to be ±2.602. Since the calculated t-value of 4.08 is greater than the \n",
    "# critical value, we can reject the null hypothesis and conclude that there is a significant difference between the two teaching methods in terms of student performance."
   ]
  },
  {
   "cell_type": "code",
   "execution_count": 7,
   "id": "bab0748c-494f-4d9b-9214-68f5a6504ac8",
   "metadata": {},
   "outputs": [],
   "source": [
    "# The sample mean is x̄ = 65, and the sample size is n = 50. The standard error can be calculated as:\n",
    "\n",
    "# standard error = σ / sqrt(n) = 8 / sqrt(50) = 1.13\n",
    "\n",
    "# Using a t-table with 49 degrees of freedom and a 90% confidence level, we find the critical values to be ±1.677. The confidence interval can be calculated as:\n",
    "\n",
    "# confidence interval = x̄ ± tstandard error = 65 ± 1.6771.13 = (63.04, 66.96)\n",
    "\n",
    "# Therefore, we can say with 90% confidence that the true population mean is between 63.04 and 66.96."
   ]
  },
  {
   "cell_type": "code",
   "execution_count": null,
   "id": "54303f71-18aa-42e9-b210-e15e7cc03a91",
   "metadata": {},
   "outputs": [],
   "source": [
    "The null hypothesis is that there is no significant difference between the reaction times with and without caffeine, while the alternative hypothesis is that there \n",
    "is a significant difference. We can use a one-sample t-test:\n",
    "\n",
    "t = (x̄ - μ) / (s / sqrt(n)) = (0.25 - μ) / (0.05 / sqrt(30))\n",
    "\n",
    "Using a t-table with 29 degrees of freedom and a 90% confidence level, we find the critical value to be ±1.699.\n",
    "\n",
    "Assuming the null hypothesis is true (μ = 0), the calculated t-value is:\n",
    "\n",
    "t = (0.25 - 0) / (0.05 / sqrt(30)) = 18\n",
    "\n",
    "Since the calculated t-value of 18 is greater than the critical value of 1.699, we can reject the null hypothesis and conclude that there is a significant\n",
    "difference between the reaction times with and without caffeine at a 90% confidence"
   ]
  }
 ],
 "metadata": {
  "kernelspec": {
   "display_name": "Python 3 (ipykernel)",
   "language": "python",
   "name": "python3"
  },
  "language_info": {
   "codemirror_mode": {
    "name": "ipython",
    "version": 3
   },
   "file_extension": ".py",
   "mimetype": "text/x-python",
   "name": "python",
   "nbconvert_exporter": "python",
   "pygments_lexer": "ipython3",
   "version": "3.10.8"
  }
 },
 "nbformat": 4,
 "nbformat_minor": 5
}
