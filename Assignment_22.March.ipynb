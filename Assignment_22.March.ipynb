{
 "cells": [
  {
   "cell_type": "code",
   "execution_count": 6,
   "id": "d3074fbb-4255-4468-9516-282c41546750",
   "metadata": {},
   "outputs": [
    {
     "name": "stdout",
     "output_type": "stream",
     "text": [
      "1.0\n",
      "0.0\n"
     ]
    }
   ],
   "source": [
    "import numpy as np\n",
    "from scipy.stats import pearsonr\n",
    "\n",
    "# sample data\n",
    "study_time =  [10,15,20,25,30,35,40,45,50,55]\n",
    "exam_score = [60,65,70,75,80,85,90,95,100,105]\n",
    "\n",
    "corr_coeff, p_value =  pearsonr(study_time,exam_score)\n",
    "\n",
    "print(corr_coeff)\n",
    "print(p_value)"
   ]
  },
  {
   "cell_type": "code",
   "execution_count": 7,
   "id": "ba6a8778-0218-44ae-abef-27e4200a19d0",
   "metadata": {},
   "outputs": [],
   "source": [
    "from scipy.stats import spearmanr"
   ]
  },
  {
   "cell_type": "code",
   "execution_count": 8,
   "id": "04552e13-3c22-4192-a2d6-fbdca16fa7da",
   "metadata": {},
   "outputs": [],
   "source": [
    "sleep = [9,8,7,5,4,7,3,2,7,5,4]\n",
    "job_satisfaction = [9,8,7,6,5,4,3,2,2,1,9]"
   ]
  },
  {
   "cell_type": "code",
   "execution_count": 9,
   "id": "1c0ea7e6-103c-49c4-b347-50da802cba72",
   "metadata": {},
   "outputs": [],
   "source": [
    "corr_coeff, p_value =  spearmanr(sleep,job_satisfaction)"
   ]
  },
  {
   "cell_type": "code",
   "execution_count": 10,
   "id": "494d6bf5-d12c-4a29-a41a-487d942d7ba2",
   "metadata": {},
   "outputs": [
    {
     "name": "stdout",
     "output_type": "stream",
     "text": [
      "0.4236292711913334\n",
      "0.19416082191470707\n"
     ]
    }
   ],
   "source": [
    "print(corr_coeff)\n",
    "print(p_value)"
   ]
  },
  {
   "cell_type": "code",
   "execution_count": 14,
   "id": "4efd56c8-9e05-4df2-97fa-554895916412",
   "metadata": {},
   "outputs": [
    {
     "name": "stdout",
     "output_type": "stream",
     "text": [
      "0.9799429212140657 0.9799429212140657\n",
      "0.9910723732642538 0.9910723732642538\n"
     ]
    }
   ],
   "source": [
    "import numpy as np\n",
    "from scipy.stats import pearsonr,spearmanr\n",
    "\n",
    "hours_of_exercise = [2, 5, 3, 4, 6, 1, 2, 3, 5, 4, 2, 1, 3, 4, 6, 5, 3, 2, 4, 1,\n",
    "                     3, 4, 5, 2, 1, 6, 4, 3, 2, 1, 5, 4, 6, 3, 2, 4, 5, 1, 2, 3,\n",
    "                     4, 6, 5, 2, 1, 3, 4, 5, 6, 3, 2, 4]\n",
    "bmi = [25, 28, 26, 27, 30, 24, 25, 26, 28, 27, 25, 24, 26, 27, 29, 28, 26, 25,\n",
    "       27, 24, 26, 27, 28, 25, 24, 30, 27, 26, 25, 24, 28, 27, 30, 26, 25, 27,\n",
    "       28, 24, 25, 26, 29, 30, 28, 25, 24, 26, 27, 28, 30, 26, 25, 27]\n",
    "\n",
    "corr_coef, p_value = pearsonr(hours_of_exercise,bmi)\n",
    "print(corr_coef,corr_coef)\n",
    "corr_coef, p_value = spearmanr(hours_of_exercise,bmi)\n",
    "print(corr_coef,corr_coef)"
   ]
  },
  {
   "cell_type": "code",
   "execution_count": 16,
   "id": "6d10de36-8d23-4a23-8db4-6a4347aca318",
   "metadata": {},
   "outputs": [
    {
     "name": "stdout",
     "output_type": "stream",
     "text": [
      "-0.26100361749908263 0.412565620673137\n"
     ]
    }
   ],
   "source": [
    "import numpy as np\n",
    "from scipy.stats import pearsonr\n",
    "number_hours = [2,5,3,4,6,1,2,3,5,4,2,1]\n",
    "day = [1,2,3,4,5,6,7,8,9,10,11,12]\n",
    "\n",
    "corr_coef, p_value = pearsonr(number_hours,day)\n",
    "print(corr_coef, p_value)"
   ]
  },
  {
   "cell_type": "code",
   "execution_count": 1,
   "id": "4dcd30d3-be6e-4ee9-982e-6827a97f0cd1",
   "metadata": {},
   "outputs": [
    {
     "name": "stdout",
     "output_type": "stream",
     "text": [
      "-0.12023544722466692 0.526814591080556\n"
     ]
    }
   ],
   "source": [
    "from scipy.stats import pearsonr\n",
    "\n",
    "number_of_sales_calls_made_per_day = [1,2,3,4,5,6,7,8,9,10,9,8,7,6,5,4,3,2,1,10,1,2,3,4,5,6,7,8,9,10]\n",
    "number_of_sales_made_per_week = [98,67,54,22,44,66,88,66,54,98,23,56,98,23,56,76,77,98,79,54,23,67,65,78,45,67,32,14,56,87]\n",
    "\n",
    "corr_coef, p_value = pearsonr(number_of_sales_calls_made_per_day,number_of_sales_made_per_week)\n",
    "print(corr_coef, p_value)"
   ]
  },
  {
   "cell_type": "code",
   "execution_count": null,
   "id": "dc8d10de-c270-42bb-aa3b-076274a5fb05",
   "metadata": {},
   "outputs": [],
   "source": []
  }
 ],
 "metadata": {
  "kernelspec": {
   "display_name": "Python 3 (ipykernel)",
   "language": "python",
   "name": "python3"
  },
  "language_info": {
   "codemirror_mode": {
    "name": "ipython",
    "version": 3
   },
   "file_extension": ".py",
   "mimetype": "text/x-python",
   "name": "python",
   "nbconvert_exporter": "python",
   "pygments_lexer": "ipython3",
   "version": "3.10.8"
  }
 },
 "nbformat": 4,
 "nbformat_minor": 5
}
