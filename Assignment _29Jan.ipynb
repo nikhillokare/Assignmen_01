{
 "cells": [
  {
   "cell_type": "code",
   "execution_count": null,
   "id": "cfe5d51c-78f0-4825-bcd3-062e31b8f64c",
   "metadata": {},
   "outputs": [],
   "source": [
    "1.Guido van Rossum"
   ]
  },
  {
   "cell_type": "code",
   "execution_count": null,
   "id": "135c794a-5f59-4d86-84fb-1a976f82ae21",
   "metadata": {},
   "outputs": [],
   "source": [
    "2.Object Oriented, Structured, and Functional Prgramming"
   ]
  },
  {
   "cell_type": "code",
   "execution_count": null,
   "id": "d904a62b-620f-4bdd-a28a-4360bc2c9091",
   "metadata": {},
   "outputs": [],
   "source": [
    "3.Python is case sensitive"
   ]
  },
  {
   "cell_type": "code",
   "execution_count": null,
   "id": "215be4fa-379f-4363-8c7f-4265ae63d941",
   "metadata": {},
   "outputs": [],
   "source": [
    "4. .py extension"
   ]
  },
  {
   "cell_type": "code",
   "execution_count": null,
   "id": "ef17cb5a-08b7-4099-974c-12b60d7e86b2",
   "metadata": {},
   "outputs": [],
   "source": [
    "5.Python is an interpreted language"
   ]
  },
  {
   "cell_type": "code",
   "execution_count": null,
   "id": "bcc716ca-fe2a-4546-9bdf-0f4c2a13dde7",
   "metadata": {},
   "outputs": [],
   "source": [
    "6.Braces{} is use to define a block of code."
   ]
  },
  {
   "cell_type": "code",
   "execution_count": null,
   "id": "45745460-8a9c-4f60-93d4-7f74b438fd5e",
   "metadata": {},
   "outputs": [],
   "source": [
    "7.# single comment"
   ]
  },
  {
   "cell_type": "code",
   "execution_count": null,
   "id": "c5f8580f-fd92-496f-b7cb-3c85f7a22520",
   "metadata": {},
   "outputs": [],
   "source": [
    "8.sys.version"
   ]
  },
  {
   "cell_type": "code",
   "execution_count": null,
   "id": "05318bc7-7d14-44f1-ae59-1780c2aedae3",
   "metadata": {},
   "outputs": [],
   "source": [
    "9.lambda"
   ]
  },
  {
   "cell_type": "code",
   "execution_count": null,
   "id": "62956609-7a31-412d-8526-9cf81381658e",
   "metadata": {},
   "outputs": [],
   "source": [
    "10.Preferred installer program"
   ]
  },
  {
   "cell_type": "code",
   "execution_count": null,
   "id": "447af7b6-e068-48d3-bdc5-a9cb467d61df",
   "metadata": {},
   "outputs": [],
   "source": [
    "11.type(),print(),slice(),str(),int(),tuple(),sum()."
   ]
  },
  {
   "cell_type": "code",
   "execution_count": null,
   "id": "2f6fa313-72ed-4f52-aa53-0c6a7b81993c",
   "metadata": {},
   "outputs": [],
   "source": [
    "12.maximum length is 79 characters"
   ]
  },
  {
   "cell_type": "code",
   "execution_count": null,
   "id": "442e5cca-25c1-4049-ab7b-5d57350a74a7",
   "metadata": {},
   "outputs": [],
   "source": [
    "13.easy to learn, versatile, plenty of libraries, dynamically typed"
   ]
  },
  {
   "cell_type": "code",
   "execution_count": null,
   "id": "afc0c3d1-a76c-4947-a8a2-cdc50c97d6b9",
   "metadata": {},
   "outputs": [],
   "source": [
    "14.involves a private heap containing all python objects abd data structure"
   ]
  },
  {
   "cell_type": "code",
   "execution_count": null,
   "id": "71476f00-a270-4cf9-a2bb-93806847cd0c",
   "metadata": {},
   "outputs": [],
   "source": [
    "15. properties-->advanced system settings-->Environment Variables button--->select the path and edit -->save"
   ]
  },
  {
   "cell_type": "code",
   "execution_count": null,
   "id": "abcee5e0-c1e0-4e06-b121-02f89ec1fd96",
   "metadata": {},
   "outputs": [],
   "source": [
    "16.Yes, indentation is required for python"
   ]
  }
 ],
 "metadata": {
  "kernelspec": {
   "display_name": "Python 3 (ipykernel)",
   "language": "python",
   "name": "python3"
  },
  "language_info": {
   "codemirror_mode": {
    "name": "ipython",
    "version": 3
   },
   "file_extension": ".py",
   "mimetype": "text/x-python",
   "name": "python",
   "nbconvert_exporter": "python",
   "pygments_lexer": "ipython3",
   "version": "3.10.8"
  }
 },
 "nbformat": 4,
 "nbformat_minor": 5
}
