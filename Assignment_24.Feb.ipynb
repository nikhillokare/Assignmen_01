{
 "cells": [
  {
   "cell_type": "code",
   "execution_count": 6,
   "id": "98c4a774-3f79-4b70-b3ff-c583f08b4bff",
   "metadata": {},
   "outputs": [],
   "source": [
    "# import pandas as pd\n",
    "# data = pd.read_csv('https://raw.githubusercontent.com/datasciencedojo/datasets/master/titanic.csv')\n",
    "# data.head()\n",
    "# data.tail()\n",
    "# data.describe()\n",
    "# data.columns\n",
    "# data.shape"
   ]
  },
  {
   "cell_type": "code",
   "execution_count": 10,
   "id": "7f5ecfc8-424b-425d-a86f-8542a3e06132",
   "metadata": {},
   "outputs": [],
   "source": [
    "# import pandas as pd\n",
    "# def reindex_df(df):\n",
    "#     new_index = range(1,2 * len(df) + 1,2)\n",
    "#     df = df.reset_index(drop=True)\n",
    "#     df.index = new_index\n",
    "#     return df\n",
    "\n",
    "# df = pd.DataFrame({'A':[1,2,3],'B':[4,5,6],'C':[7,8,9]})\n",
    "\n",
    "# df = reindex_df(df)\n",
    "\n",
    "# print(df)"
   ]
  },
  {
   "cell_type": "code",
   "execution_count": 12,
   "id": "8b2bea12-33f9-4e62-ae56-c92ebc0cef5f",
   "metadata": {},
   "outputs": [
    {
     "name": "stdout",
     "output_type": "stream",
     "text": [
      "Sum of first three values 60\n"
     ]
    }
   ],
   "source": [
    "def sum_first_three_number(df):\n",
    "    total = 0\n",
    "    for i in range(3):\n",
    "        total += df.loc[i,'Values']\n",
    "    print('Sum of first three values',total)\n",
    "    \n",
    "import pandas as pd\n",
    "\n",
    "df = pd.DataFrame({'Values':[10,20,30,40,50,60]})\n",
    "\n",
    "sum_first_three_number(df)"
   ]
  },
  {
   "cell_type": "code",
   "execution_count": 15,
   "id": "edb2bc0a-0e62-4d51-9b80-a6e670313cb5",
   "metadata": {},
   "outputs": [
    {
     "name": "stdout",
     "output_type": "stream",
     "text": [
      "            Text  Word Count\n",
      "0    Hello world           2\n",
      "1  nikhil aniket           2\n",
      "2    op sentance           2\n"
     ]
    }
   ],
   "source": [
    "import pandas as pd\n",
    "\n",
    "def add_word_counter(df):\n",
    "    df['Word Count'] = df['Text'].apply(lambda x:len(x.split()))\n",
    "    return df\n",
    "\n",
    "df =  pd.DataFrame({'Text':['Hello world','nikhil aniket','op sentance']})\n",
    "df = add_word_counter(df)\n",
    "print(df)"
   ]
  },
  {
   "cell_type": "code",
   "execution_count": 22,
   "id": "e8c084f0-1d67-4def-a422-3dab92f56fd6",
   "metadata": {},
   "outputs": [
    {
     "name": "stdout",
     "output_type": "stream",
     "text": [
      "6\n",
      "(3, 2)\n"
     ]
    }
   ],
   "source": [
    "# DataFrame.shape() returns a tuple containing the number of rows and columns in the DataFrame\n",
    "# DataFrame.size() returns the number of elements in the DataFrame, which is the product of the number of rows and columns in the DataFrame.\n",
    "import pandas as pd\n",
    "\n",
    "df = pd.DataFrame({'A': [1, 2, 3], 'B': [4, 5, 6]})\n",
    "print(df.size)\n",
    "\n",
    "df = pd.DataFrame({'A': [1, 2, 3], 'B': [4, 5, 6]})\n",
    "print(df.shape)"
   ]
  },
  {
   "cell_type": "code",
   "execution_count": null,
   "id": "5489d439-3d30-47de-a030-8f7fcaa103de",
   "metadata": {},
   "outputs": [],
   "source": [
    "pd.read_excel()"
   ]
  },
  {
   "cell_type": "code",
   "execution_count": 27,
   "id": "d9ad5179-3656-4189-a8b9-d2244b334270",
   "metadata": {},
   "outputs": [
    {
     "name": "stdout",
     "output_type": "stream",
     "text": [
      "              Email Username\n",
      "0     nik@gmail.com      nik\n",
      "1  aniket@gmail.com   aniket\n",
      "2     sam@gmail.com      sam\n"
     ]
    }
   ],
   "source": [
    "import pandas as pd\n",
    "\n",
    "df = pd.DataFrame({'Email':['nik@gmail.com','aniket@gmail.com','sam@gmail.com']})\n",
    "\n",
    "def extract_username(email):\n",
    "    return email.split('@')[0]\n",
    "\n",
    "df['Username'] = df['Email'].apply(lambda x: extract_username(x))\n",
    "\n",
    "print(df)"
   ]
  },
  {
   "cell_type": "code",
   "execution_count": 38,
   "id": "02f3d0db-f681-4340-a4bd-c9f7506230c6",
   "metadata": {},
   "outputs": [
    {
     "name": "stdout",
     "output_type": "stream",
     "text": [
      "   A  B  C\n",
      "1  8  2  7\n",
      "2  6  9  4\n",
      "4  9  1  2\n"
     ]
    }
   ],
   "source": [
    "import pandas as pd\n",
    "\n",
    "df = pd.DataFrame({'A':[3,8,6,2,9],\n",
    "                   'B':[5,2,9,3,1],\n",
    "                   'C':[1,7,4,5,2]})\n",
    "\n",
    "def select_row(df):\n",
    "    new =  (df['A'] > 5) & (df['B'] < 10)\n",
    "\n",
    "    select_row = df[new]\n",
    "    return select_row\n",
    "\n",
    "d = select_row(df)\n",
    "\n",
    "print(d)"
   ]
  },
  {
   "cell_type": "code",
   "execution_count": 43,
   "id": "d2b7fd13-9000-4c3d-9131-6d23f9b30676",
   "metadata": {},
   "outputs": [
    {
     "name": "stdout",
     "output_type": "stream",
     "text": [
      "Mean: 56.5\n",
      "Median: 55.0\n",
      "Std_dev: 32.977264895682296\n"
     ]
    }
   ],
   "source": [
    "import pandas as pd\n",
    "\n",
    "df = pd.DataFrame({'Values' : [12,45,87,32,98,65]})\n",
    "\n",
    "def cal_stats(df):\n",
    "    mean = df['Values'].mean()\n",
    "    median = df['Values'].median()\n",
    "    std_dev = df['Values'].std()\n",
    "    \n",
    "    print('Mean:',mean)\n",
    "    print('Median:',median)\n",
    "    print('Std_dev:',std_dev)\n",
    "\n",
    "cal_stats(df)"
   ]
  },
  {
   "cell_type": "code",
   "execution_count": 49,
   "id": "5ccf47a0-d52d-478f-9633-2d256ef88d09",
   "metadata": {},
   "outputs": [],
   "source": [
    "# def add_moving_average(df):\n",
    "#     df['MovingAverage'] = df['Sales'].rolling(window=7, min_periods=1).mean()\n",
    "#     return df\n",
    "\n",
    "\n",
    "# df = add_moving_average(df)\n",
    "# print(df)"
   ]
  },
  {
   "cell_type": "code",
   "execution_count": 54,
   "id": "debe2811-5753-41fc-9fb3-58c0e5c6bdaa",
   "metadata": {},
   "outputs": [
    {
     "name": "stdout",
     "output_type": "stream",
     "text": [
      "         Date    Weekday\n",
      "0  2023-01-01     Sunday\n",
      "1  2023-01-02     Monday\n",
      "2  2023-01-03    Tuesday\n",
      "3  2023-01-04  Wednesday\n",
      "4  2023-01-05   Thursday\n"
     ]
    }
   ],
   "source": [
    "import pandas as pd\n",
    "\n",
    "def add_weekday_col(df):\n",
    "    df['Weekday'] = pd.to_datetime(df['Date']).dt.strftime('%A')\n",
    "    return df\n",
    "\n",
    "df = pd.DataFrame({'Date': ['2023-01-01', '2023-01-02', '2023-01-03', '2023-01-04', '2023-01-05']})\n",
    "df = add_weekday_col(df)\n",
    "print(df)"
   ]
  },
  {
   "cell_type": "code",
   "execution_count": 61,
   "id": "e9b3c66d-624e-4e90-a52b-44d871e42365",
   "metadata": {},
   "outputs": [],
   "source": [
    "# import pandas as pd\n",
    "\n",
    "# def select_dates(df):\n",
    "#     # Convert 'Date' column to timestamps\n",
    "#     df['Date'] = pd.to_datetime(df['Date'])\n",
    "    \n",
    "#     # Select rows where date is between '2023-01-01' and '2023-01-31'\n",
    "#     mask = (df['Date'] >= '2023-01-01') & (df['Date'] <= '2023-01-31')\n",
    "#     selected_df = df.loc[mask]\n",
    "    \n",
    "#     return selected_df"
   ]
  },
  {
   "cell_type": "code",
   "execution_count": 60,
   "id": "aeab5677-572b-40db-be78-bd40d550822a",
   "metadata": {},
   "outputs": [],
   "source": [
    "import pandas as pd"
   ]
  }
 ],
 "metadata": {
  "kernelspec": {
   "display_name": "Python 3 (ipykernel)",
   "language": "python",
   "name": "python3"
  },
  "language_info": {
   "codemirror_mode": {
    "name": "ipython",
    "version": 3
   },
   "file_extension": ".py",
   "mimetype": "text/x-python",
   "name": "python",
   "nbconvert_exporter": "python",
   "pygments_lexer": "ipython3",
   "version": "3.10.8"
  }
 },
 "nbformat": 4,
 "nbformat_minor": 5
}
