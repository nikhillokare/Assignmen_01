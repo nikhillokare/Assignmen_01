{
 "cells": [
  {
   "cell_type": "code",
   "execution_count": null,
   "id": "2b113906-0d74-470e-bf5f-615e5e347bb6",
   "metadata": {},
   "outputs": [],
   "source": [
    "file = open('text.txt','w')\n",
    "# 'r'   -    open for reading (default)\n",
    "# 'w'   -    open for writing, truncating the file first\n",
    "# 'x'   -    create a new file and open it for writing\n",
    "# 'a'   -    open for writing, appending to the end of the file if it exists\n",
    "# 'b'   -    binary mode\n",
    "# 't'   -    text mode (default)\n",
    "# '+'   -    open a disk file for updating (reading and writing)\n",
    "# 'U'   -    universal newline mode (deprecated)"
   ]
  },
  {
   "cell_type": "code",
   "execution_count": null,
   "id": "89ebd5e1-b869-4b58-9660-52fbc449f6f9",
   "metadata": {},
   "outputs": [],
   "source": [
    "# The close() function is used to close a file after it has been opened in a program.\n",
    "# closing a file using the close() function is important for proper resource management, data consistency, and avoiding system limitations."
   ]
  },
  {
   "cell_type": "code",
   "execution_count": 25,
   "id": "6e3f8a9d-97c6-497a-ad6a-4c96cd67bc07",
   "metadata": {},
   "outputs": [
    {
     "data": {
      "text/plain": [
       "'Nikhil is OG'"
      ]
     },
     "execution_count": 25,
     "metadata": {},
     "output_type": "execute_result"
    }
   ],
   "source": [
    "file = open('test.txt','w')\n",
    "file.write('Nikhil is OG')\n",
    "file.close()\n",
    "file = open('test.txt','r')\n",
    "file.read()"
   ]
  },
  {
   "cell_type": "code",
   "execution_count": null,
   "id": "6f153242-b895-4b18-b576-8921a7e8ce5e",
   "metadata": {},
   "outputs": [],
   "source": [
    "# read() - The read() method is used to read the entire contents of a file and return it as a single string.\n",
    "with open(\"file.txt\", \"r\") as f:\n",
    "    data = f.read()\n",
    "    print(data)\n",
    "    \n",
    "# readline() - he readline() method is used to read a single line from a file and return it as a string.\n",
    "with open(\"file.txt\", \"r\") as f:\n",
    "    line = f.readline()\n",
    "    while line:\n",
    "        print(line)\n",
    "        line = f.readline()\n",
    "\n",
    "# The readlines() method is used to read all the lines of a file and return them as a list of strings.\n",
    "with open(\"file.txt\", \"r\") as f:\n",
    "    lines = f.readlines()\n",
    "    for line in lines:\n",
    "        print(line)\n"
   ]
  },
  {
   "cell_type": "code",
   "execution_count": 29,
   "id": "5fb5631e-f3ae-446f-a5d3-48e5f89faab1",
   "metadata": {},
   "outputs": [],
   "source": [
    "# The with statement is used with the open() function in Python to ensure that a file is properly opened and closed. \n",
    "# It provides a context for working with a file that automatically handles the opening and closing of the file, as well as any errors that may occur during the process.\n",
    "# advatages - The advantage of using with and open() together is that it simplifies the code and reduces the likelihood of errors\n",
    "# 1.Automatic file closing.\n",
    "# 2.Error Handling.\n"
   ]
  },
  {
   "cell_type": "code",
   "execution_count": null,
   "id": "b7a1790b-082c-4fe0-b20b-39ee90c28732",
   "metadata": {},
   "outputs": [],
   "source": [
    "# write() - The write() function is used to write a string of data to a file. It takes a single argument, which is the string to be written to the file.\n",
    "with open(\"file.txt\", \"w\") as f:\n",
    "    f.write(\"Hello, World!\\n\")\n",
    "    f.write(\"This is a test.\\n\")\n",
    "\n",
    "# writelines() - The writelines() function is used to write a list of strings to a file. It takes a single argument, which is a list of strings to be written to the file. \n",
    "with open(\"file.txt\", \"w\") as f:\n",
    "    lines = [\"Hello, World!\\n\", \"This is a test.\\n\"]\n",
    "    f.writelines(lines)\n"
   ]
  }
 ],
 "metadata": {
  "kernelspec": {
   "display_name": "Python 3 (ipykernel)",
   "language": "python",
   "name": "python3"
  },
  "language_info": {
   "codemirror_mode": {
    "name": "ipython",
    "version": 3
   },
   "file_extension": ".py",
   "mimetype": "text/x-python",
   "name": "python",
   "nbconvert_exporter": "python",
   "pygments_lexer": "ipython3",
   "version": "3.10.8"
  }
 },
 "nbformat": 4,
 "nbformat_minor": 5
}
