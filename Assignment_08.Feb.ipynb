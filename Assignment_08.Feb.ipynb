{
 "cells": [
  {
   "cell_type": "code",
   "execution_count": null,
   "id": "f17a58d8-ef6e-4ea5-ad1c-51b37746b720",
   "metadata": {},
   "outputs": [],
   "source": [
    "# Abstraction in Object-Oriented Programming (OOP) is a process of hiding complex implementation details and showing only the necessary information to the users.\n",
    "# It focuses on the object's behavior rather than its internal details.\n",
    "\n",
    "class Animal:\n",
    "    def __init__(self, name):\n",
    "        self.name = name\n",
    "        \n",
    "    def make_sound(self):\n",
    "        pass\n",
    "    \n",
    "class Dog(Animal):\n",
    "    def make_sound(self):\n",
    "        print(\"Bark\")\n",
    "        \n",
    "class Cat(Animal):\n",
    "    def make_sound(self):\n",
    "        print(\"Meow\")\n",
    "\n",
    "dog = Dog(\"Rufus\")\n",
    "dog.make_sound() \n",
    "\n",
    "cat = Cat(\"Whiskers\")\n",
    "cat.make_sound() "
   ]
  },
  {
   "cell_type": "code",
   "execution_count": 1,
   "id": "14755d18-e614-4bf9-8cf1-5de86171a3d5",
   "metadata": {},
   "outputs": [
    {
     "name": "stdout",
     "output_type": "stream",
     "text": [
      "True\n"
     ]
    }
   ],
   "source": [
    "# Abstraction is the process of hiding complex implementation details and showing only the necessary information to the users.\n",
    "# Encapsulation is the mechanism of wrapping the data (variables) and code acting on the data (methods) within a single unit or object.\n",
    "\n",
    "class BankAccount:\n",
    "    def __init__(self, balance):\n",
    "        self.__balance = balance\n",
    "        \n",
    "    def deposit(self, amount):\n",
    "        self.__balance += amount\n",
    "        \n",
    "    def withdraw(self, amount):\n",
    "        if self.__balance >= amount:\n",
    "            self.__balance -= amount\n",
    "            return True\n",
    "        else:\n",
    "            return False\n",
    "\n",
    "account = BankAccount(1000)\n",
    "account.deposit(500)\n",
    "result = account.withdraw(700)\n",
    "print(result)"
   ]
  },
  {
   "cell_type": "code",
   "execution_count": null,
   "id": "80bfa3ba-0fb2-4efb-91e9-4669baf7bb5f",
   "metadata": {},
   "outputs": [],
   "source": [
    "# The \"abc\" module stands for \"Abstract Base Classes\" in Python, and it provides support for defining abstract base classes (ABCs). \n",
    "# An ABC is a class that cannot be instantiated and serves as a base class or an interface for other classes. \n",
    "# It defines a common interface that must be implemented by its subclasses. \n",
    "# The purpose of using ABCs is to enforce a common interface in a set of related classes and to allow for substitutability, meaning that objects of different concrete classes can be used interchangeably in the same context as long as they implement the same ABC."
   ]
  },
  {
   "cell_type": "code",
   "execution_count": null,
   "id": "f6cf3e88-2bfd-4b7a-b4cc-70854526b71e",
   "metadata": {},
   "outputs": [],
   "source": [
    "# Data abstraction is achieved in Python through the use of classes and objects, and specifically by using abstract base classes and encapsulation.\n",
    "# Abstract base classes are defined using the \"abc\" module as explained in the previous answer, and they define the common interface for a set of related classes. By using ABCs, you can enforce a common interface in your classes and ensure that certain methods are implemented.\n",
    "# Encapsulation is another fundamental aspect of object-oriented programming that helps achieve data abstraction. \n",
    "# It refers to the practice of hiding the internal details of an object and exposing only the necessary information to the outside world. \n",
    "# In Python, this can be achieved by declaring class variables and methods as \"private\" using a double underscore prefix (e.g., __private_variable)"
   ]
  },
  {
   "cell_type": "code",
   "execution_count": null,
   "id": "9a2c3762-e7cb-484e-bb1b-a12e2d8ecd39",
   "metadata": {},
   "outputs": [],
   "source": [
    "# No, you cannot create an instance of an abstract class. \n",
    "# An abstract class is a class that contains one or more abstract methods, which are methods that have no implementation and must be overridden in a subclass. \n",
    "# The purpose of an abstract class is to provide a common interface for its subclasses, but it cannot be instantiated itself.\n",
    "\n",
    "class Vehicle():\n",
    "    def start(self):\n",
    "        pass\n",
    "    def stop(self):\n",
    "        pass\n",
    "# this will raise an error\n",
    "vehicle = Vehicle()\n",
    "\n",
    "# Explination:\n",
    "#     Attempting to create an instance of the Vehicle class will raise a TypeError because it is an abstract class and cannot be instantiated directly. \n",
    "#     To use the Vehicle class, you must extend it in a concrete subclass and provide an implementation for the abstract methods."
   ]
  }
 ],
 "metadata": {
  "kernelspec": {
   "display_name": "Python 3 (ipykernel)",
   "language": "python",
   "name": "python3"
  },
  "language_info": {
   "codemirror_mode": {
    "name": "ipython",
    "version": 3
   },
   "file_extension": ".py",
   "mimetype": "text/x-python",
   "name": "python",
   "nbconvert_exporter": "python",
   "pygments_lexer": "ipython3",
   "version": "3.10.8"
  }
 },
 "nbformat": 4,
 "nbformat_minor": 5
}
