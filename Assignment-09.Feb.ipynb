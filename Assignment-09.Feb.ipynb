{
 "cells": [
  {
   "cell_type": "code",
   "execution_count": 36,
   "id": "b84dab6e-bcde-40bf-8f0f-da0268561e6d",
   "metadata": {},
   "outputs": [
    {
     "name": "stdout",
     "output_type": "stream",
     "text": [
      "Sedan with a seating capacity of 5\n"
     ]
    }
   ],
   "source": [
    "Q1,Q2\n",
    "class Vehicle:\n",
    "    def __init__(self, name_of_vehicle, max_speed, average_of_vehicle):\n",
    "        self.name_of_vehicle = name_of_vehicle\n",
    "        self.max_speed = max_speed\n",
    "        self.average_of_vehicle = average_of_vehicle\n",
    "\n",
    "class Car(Vehicle):\n",
    "    def __init__(self, name_of_vehicle, max_speed, average_of_vehicle, capacity):\n",
    "        Vehicle.__init__(self, name_of_vehicle, max_speed, average_of_vehicle)\n",
    "        self.capacity = capacity\n",
    "    \n",
    "    def seating_capacity(self):\n",
    "        return f\"{self.name_of_vehicle} with a seating capacity of {self.capacity}\"\n",
    "\n",
    "my_car = Car(\"Sedan\", 220, 140, 5)\n",
    "print(my_car.seating_capacity())"
   ]
  },
  {
   "cell_type": "code",
   "execution_count": 51,
   "id": "a45305a5-cc2d-40b7-9e97-b4c8a0332f84",
   "metadata": {},
   "outputs": [
    {
     "name": "stdout",
     "output_type": "stream",
     "text": [
      "This is you parent1 class\n",
      "This is you parent2 class\n",
      "This is your child class\n"
     ]
    }
   ],
   "source": [
    "# a single class can inherit properties and behavior from multiple parent classes.\n",
    "# Mulitple inheritance\n",
    "class Parent1:\n",
    "    def Method1(self):\n",
    "        print('This is you parent1 class')\n",
    "        \n",
    "class Parent2:\n",
    "    def Method2(self):\n",
    "        print('This is you parent2 class')\n",
    "        \n",
    "class Child(Parent1,Parent2):\n",
    "    def Method3(self):\n",
    "        print('This is your child class')\n",
    "        \n",
    "child = Child()   \n",
    "child.Method1()\n",
    "child.Method2()\n",
    "child.Method3()"
   ]
  },
  {
   "cell_type": "code",
   "execution_count": 53,
   "id": "604a7df8-4133-42d1-97ff-52ad819cdec6",
   "metadata": {},
   "outputs": [
    {
     "name": "stdout",
     "output_type": "stream",
     "text": [
      "Nikhil\n",
      "Aniket\n"
     ]
    }
   ],
   "source": [
    "# getters and setters are methods that allow you to access and modify the properties of an object. \n",
    "# The getter method is used to retrieve the value of an instance variable, \n",
    "# while the setter method is used to update its value.\n",
    "\n",
    "class Person:\n",
    "    def __init__(self,name):\n",
    "        self.name = name\n",
    "    \n",
    "    def name(self):\n",
    "        print('getting name')\n",
    "        return self.name\n",
    "    \n",
    "    def name(self,value):\n",
    "        print('setting name')\n",
    "        self.name = value\n",
    "        \n",
    "person = Person('Nikhil')\n",
    "print(person.name)\n",
    "person.name = 'Aniket'\n",
    "print(person.name)"
   ]
  },
  {
   "cell_type": "code",
   "execution_count": 61,
   "id": "da3f250e-0f91-4168-894e-5de9957ec993",
   "metadata": {},
   "outputs": [
    {
     "name": "stdout",
     "output_type": "stream",
     "text": [
      "25\n",
      "28.259999999999998\n"
     ]
    }
   ],
   "source": [
    "# a child class can provide a new implementation for a method that is already defined in its parent class. \n",
    "# The new implementation in the child class \"overrides\" the behavior of the same method in the parent class.\n",
    "\n",
    "class Shape:\n",
    "    def area(self):\n",
    "        pass\n",
    "class Reactangle(Shape):\n",
    "    def __init__(self,width,height):\n",
    "        self.width  = height\n",
    "        self.height = height\n",
    "     \n",
    "    def area(self):\n",
    "        return self.width * self.height\n",
    "    \n",
    "class Circle(Shape):\n",
    "    def __init__(self,radius):\n",
    "        self.radius = radius\n",
    "        \n",
    "    def area(self):\n",
    "        return 3.14 * self.radius * self.radius\n",
    "    \n",
    "react = Reactangle(4,5)\n",
    "print(react.area())\n",
    "\n",
    "circle = Circle(3)\n",
    "print(circle.area())"
   ]
  }
 ],
 "metadata": {
  "kernelspec": {
   "display_name": "Python 3 (ipykernel)",
   "language": "python",
   "name": "python3"
  },
  "language_info": {
   "codemirror_mode": {
    "name": "ipython",
    "version": 3
   },
   "file_extension": ".py",
   "mimetype": "text/x-python",
   "name": "python",
   "nbconvert_exporter": "python",
   "pygments_lexer": "ipython3",
   "version": "3.10.8"
  }
 },
 "nbformat": 4,
 "nbformat_minor": 5
}
