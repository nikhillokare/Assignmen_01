{
 "cells": [
  {
   "cell_type": "code",
   "execution_count": 1,
   "id": "89b941f4-a54f-4368-8258-bfe5ebc8cac8",
   "metadata": {},
   "outputs": [],
   "source": [
    "A database is an organized collection of data that is stored and accessed electronically. It can be thought of as a structured way to store and manage information, \n",
    "which can be easily queried and manipulated.\n",
    "\n",
    "# SQL\n",
    "\n",
    "SQL databases are relational databases that store data in tables with predefined relationships between them. \n",
    "These databases use SQL, a standardized query language, to manage and manipulate data. \n",
    "Some popular examples of SQL databases include MySQL, Oracle, and PostgreSQL.\n",
    "SQL databases are ideal for applications that require complex queries, such as financial or transactional systems\n",
    "\n",
    "# NOSQL\n",
    "\n",
    "NoSQL databases, on the other hand, use non-relational data models to store data. This means that data is not organized in tables with predefined relationships.\n",
    "NoSQL databases use a variety of data models, such as document-based, key-value, and graph-based. \n",
    "Some popular examples of NoSQL databases include MongoDB, Cassandra, and Redis. \n",
    "NoSQL databases are ideal for applications that require high scalability, real-time data processing, and flexible data models, such as social media platforms or gaming applications."
   ]
  },
  {
   "cell_type": "code",
   "execution_count": 3,
   "id": "9ec3c480-54c2-4208-bc98-53c47a44f8f4",
   "metadata": {},
   "outputs": [],
   "source": [
    "DDL stands for Data Definition Language, and it is used to define the structure of a database. \n",
    "CREATE is used to create a new table or database object, DROP is used to delete an existing table or database object, \n",
    "ALTER is used to modify the structure of an existing table or database object, and TRUNCATE is used to remove all the data from a table while leaving its structure intact.\n",
    "\n",
    "# Create Table\n",
    "CREATE TABLE users (\n",
    "   user_id INT PRIMARY KEY,\n",
    "   name VARCHAR(50) NOT NULL,\n",
    "   email VARCHAR(50) UNIQUE,\n",
    "   password VARCHAR(100) NOT NULL\n",
    ");\n",
    "\n",
    "# Drop Table\n",
    "DROP TABLE users;\n",
    "\n",
    "# Alter Table\n",
    "ALTER TABLE users ADD COLUMN phone_number VARCHAR(20);\n",
    "\n",
    "# Truncate Table\n",
    "TRUNCATE TABLE users;"
   ]
  },
  {
   "cell_type": "code",
   "execution_count": null,
   "id": "98533d52-7030-44fe-b22c-e6db6eaa8730",
   "metadata": {},
   "outputs": [],
   "source": [
    "DML stands for Data Manipulation Language and it is used to modify or manipulate the data stored in a database.\n",
    "\n",
    "Insert - INSERT INTO users (user_id, name, email, password) VALUES (1, 'John Smith', 'john@example.com', 'password123');\n",
    "\n",
    "Update - UPDATE users SET email = 'newemail@example.com' WHERE user_id = 1;\n",
    "\n",
    "Delete - DELETE FROM users WHERE user_id = 1;"
   ]
  },
  {
   "cell_type": "code",
   "execution_count": null,
   "id": "deb91ce9-f093-4cc4-94da-90c01c61c8fc",
   "metadata": {},
   "outputs": [],
   "source": [
    "DQL stands for Data Query Language and it is used to retrieve data from a database.\n",
    "\n",
    "SELECT name, email FROM users WHERE user_id = 1;\n",
    "This statement retrieves the \"name\" and \"email\" columns of the \"users\" table where the \"user_id\" is equal to 1."
   ]
  },
  {
   "cell_type": "code",
   "execution_count": null,
   "id": "b3b7241d-8bc3-4b9c-95d1-37bbc82b5b83",
   "metadata": {},
   "outputs": [],
   "source": [
    "Primary Key:\n",
    "A primary key is a column or combination of columns that uniquely identifies each record in a table. \n",
    "Primary keys are used to enforce data integrity by ensuring that each record in a table can be uniquely identified and accessed. \n",
    "Primary keys must be unique and cannot contain null values. A table can have only one primary key. For example, in a table of \"users\", \"user_id\" might be used as the primary key.\n",
    "\n",
    "Foreign Key:\n",
    "A foreign key is a column in one table that references the primary key of another table. \n",
    "Foreign keys are used to establish relationships between tables and enforce referential integrity.\n",
    "A foreign key constraint ensures that a value in a column of one table matches a value in the primary key of another table. "
   ]
  },
  {
   "cell_type": "code",
   "execution_count": null,
   "id": "e1c83feb-1eec-4c5d-8e4b-c8e80732cf2a",
   "metadata": {},
   "outputs": [],
   "source": [
    "import mysql.connector\n",
    "\n",
    "# establish connection\n",
    "mydb = mysql.connector.connect(\n",
    "  host=\"localhost\",\n",
    "  user=\"yourusername\",\n",
    "  password=\"yourpassword\",\n",
    "  database=\"yourdatabase\"\n",
    ")\n",
    "\n",
    "# create a cursor\n",
    "mycursor = mydb.cursor()\n",
    "\n",
    "# execute a query\n",
    "mycursor.execute(\"SELECT * FROM yourtable\")\n",
    "\n",
    "# fetch the results\n",
    "myresult = mycursor.fetchall()\n",
    "\n",
    "# print the results\n",
    "for row in myresult:\n",
    "    print(row)\n",
    "\n",
    "we create a cursor using the cursor() method. A cursor is an object that allows us to execute queries and fetch results.\n",
    "We then execute a query using the execute() method of the cursor object. In this example, we select all the rows from a table."
   ]
  },
  {
   "cell_type": "code",
   "execution_count": null,
   "id": "6c88a83f-143d-48b7-94a3-f351325d68e5",
   "metadata": {},
   "outputs": [],
   "source": [
    "# Clauses\n",
    "\n",
    "FROM - specifies the table or tables from which the data will be retrieved.\n",
    "WHERE - filters the rows based on the specified conditions.\n",
    "GROUP BY - groups the rows by one or more columns.\n",
    "HAVING - filters the groups based on the specified conditions.\n",
    "SELECT - selects the columns to be retrieved.\n",
    "DISTINCT - removes duplicates from the result set.\n",
    "ORDER BY - sorts the result set by one or more columns.\n",
    "LIMIT - limits the number of rows returned in the result set."
   ]
  }
 ],
 "metadata": {
  "kernelspec": {
   "display_name": "Python 3 (ipykernel)",
   "language": "python",
   "name": "python3"
  },
  "language_info": {
   "codemirror_mode": {
    "name": "ipython",
    "version": 3
   },
   "file_extension": ".py",
   "mimetype": "text/x-python",
   "name": "python",
   "nbconvert_exporter": "python",
   "pygments_lexer": "ipython3",
   "version": "3.10.8"
  }
 },
 "nbformat": 4,
 "nbformat_minor": 5
}
