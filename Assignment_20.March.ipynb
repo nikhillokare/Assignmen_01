{
 "cells": [
  {
   "cell_type": "code",
   "execution_count": 1,
   "id": "dd62ffff-95fd-423c-97d4-0680349681c0",
   "metadata": {},
   "outputs": [],
   "source": [
    "# Data encoding is the process of converting data from one form to another, typically from a human-readable format to a machine-readable format. \n",
    "# It involves transforming data into a numerical or binary format that can be easily processed by computer algorithms. \n",
    "# Data encoding is useful in data science because it allows for the efficient storage, processing, and analysis of large datasets."
   ]
  },
  {
   "cell_type": "code",
   "execution_count": 2,
   "id": "c4828927-4958-4f9d-ba06-46d8fd215367",
   "metadata": {},
   "outputs": [],
   "source": [
    "# Nominal encoding is a type of categorical encoding where each category is assigned a unique integer value. \n",
    "# An example of nominal encoding would be assigning a numerical value to each type of fruit, such as 1 for apples, 2 for bananas, 3 for oranges, and so on."
   ]
  },
  {
   "cell_type": "code",
   "execution_count": 3,
   "id": "6b964b4d-af5c-46fe-93a8-722bd7313659",
   "metadata": {},
   "outputs": [],
   "source": [
    "# Nominal encoding is preferred over one-hot encoding when the number of unique categories in a categorical feature is relatively small,\n",
    "# and the order or magnitude of the categories is not meaningful. For example, in the case of gender, where there are only two categories, \n",
    "# male and female, nominal encoding would be preferred over one-hot encoding."
   ]
  },
  {
   "cell_type": "code",
   "execution_count": 4,
   "id": "c16e825b-42f6-4547-8d67-d80fc7af93be",
   "metadata": {},
   "outputs": [],
   "source": [
    " # If the dataset contains categorical data with 5 unique values, one-hot encoding would be a suitable technique to transform the data into a format suitable for \n",
    " #    machine learning algorithms. One-hot encoding creates a new binary column for each unique category, indicating whether that category is present in the original\n",
    " #    data or not. This technique is suitable for a small number of unique categories."
   ]
  },
  {
   "cell_type": "code",
   "execution_count": 5,
   "id": "37a49502-d7fe-49a3-99df-e18e1aaa7761",
   "metadata": {},
   "outputs": [],
   "source": [
    "# If nominal encoding is used to transform the categorical data in a dataset with 1000 rows and 2 categorical columns, the number of new columns created would depend on \n",
    "# the number of unique categories in each column. If the first categorical column has 4 unique categories, and the second categorical column has 6 unique categories, \n",
    "# the total number of new columns created would be 10 (4 + 6)."
   ]
  },
  {
   "cell_type": "code",
   "execution_count": 6,
   "id": "6e3115ec-638c-4b75-ac22-2843ea68a0f6",
   "metadata": {},
   "outputs": [],
   "source": [
    "# If nominal encoding is used to transform the categorical data in a dataset with 1000 rows and 2 categorical columns, the number of new columns created would depend on the number \n",
    "# of unique categories in each column. If the first categorical column has 4 unique categories, and the second categorical column has 6 unique categories, the total number of new\n",
    "# columns created would be 10 (4 + 6)."
   ]
  },
  {
   "cell_type": "code",
   "execution_count": null,
   "id": "cb673766-adf7-42ee-a690-813df175aa84",
   "metadata": {},
   "outputs": [],
   "source": []
  }
 ],
 "metadata": {
  "kernelspec": {
   "display_name": "Python 3 (ipykernel)",
   "language": "python",
   "name": "python3"
  },
  "language_info": {
   "codemirror_mode": {
    "name": "ipython",
    "version": 3
   },
   "file_extension": ".py",
   "mimetype": "text/x-python",
   "name": "python",
   "nbconvert_exporter": "python",
   "pygments_lexer": "ipython3",
   "version": "3.10.8"
  }
 },
 "nbformat": 4,
 "nbformat_minor": 5
}
