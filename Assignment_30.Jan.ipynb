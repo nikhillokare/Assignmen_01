{
 "cells": [
  {
   "cell_type": "code",
   "execution_count": 1,
   "id": "6e3db1b9-f1e8-4e47-bff3-6b21373aeb08",
   "metadata": {},
   "outputs": [
    {
     "name": "stdin",
     "output_type": "stream",
     "text": [
      "Enter The Percentages 91\n"
     ]
    },
    {
     "name": "stdout",
     "output_type": "stream",
     "text": [
      "Grade is: A\n"
     ]
    }
   ],
   "source": [
    "Percentage = int(input('Enter The Percentages'))\n",
    "if Percentage > 90:\n",
    "    print('Grade is: A')\n",
    "elif Percentage > 80 and Percentage <= 90:\n",
    "    print('Grade is:B')\n",
    "elif Percentage >= 60 and Percentage <= 80:\n",
    "    print('Grade is:C')\n",
    "else:\n",
    "    print('Grade is:D')"
   ]
  },
  {
   "cell_type": "code",
   "execution_count": 2,
   "id": "1fed6060-e9fc-40ea-8cd0-9881f095be27",
   "metadata": {},
   "outputs": [
    {
     "name": "stdin",
     "output_type": "stream",
     "text": [
      "Enter The Cost Price Of The Bike 200000\n"
     ]
    },
    {
     "name": "stdout",
     "output_type": "stream",
     "text": [
      "Tax is: 15%\n"
     ]
    }
   ],
   "source": [
    "Bike_price = int(input('Enter The Cost Price Of The Bike'))\n",
    "if Bike_price > 100000:\n",
    "    print('Tax is: 15%')\n",
    "elif Bike_price > 50000 and Bike_price <= 100000:\n",
    "    print('Tax is: 10%')\n",
    "else:\n",
    "    print('Tax is: 5%')"
   ]
  },
  {
   "cell_type": "code",
   "execution_count": 3,
   "id": "19d1044f-e39c-45bd-a9e9-06e792432eff",
   "metadata": {},
   "outputs": [
    {
     "name": "stdin",
     "output_type": "stream",
     "text": [
      "Enter The City_Name Delhi\n"
     ]
    },
    {
     "name": "stdout",
     "output_type": "stream",
     "text": [
      "Monument is: Red Fort\n"
     ]
    }
   ],
   "source": [
    "City_Name = str(input('Enter The City_Name'))\n",
    "if City_Name == 'Delhi':\n",
    "    print('Monument is: Red Fort')\n",
    "elif City_Name == 'Agra':\n",
    "    print('Monument is: Taj Mahal')\n",
    "elif City_Name == 'Jaipur':\n",
    "    print('Monument is: Jal Mahal')\n",
    "else:\n",
    "    print('City_Name is wrong please make it correct')"
   ]
  },
  {
   "cell_type": "code",
   "execution_count": 5,
   "id": "c40d43fc-7882-4049-af15-b5d3f1df373c",
   "metadata": {},
   "outputs": [
    {
     "name": "stdout",
     "output_type": "stream",
     "text": [
      "*\n",
      "**\n",
      "***\n",
      "****\n",
      "*****\n"
     ]
    }
   ],
   "source": [
    "for i in range(1, 6):\n",
    "    for j in range(1, i + 1):\n",
    "        print(\"*\", end=\"\")\n",
    "    print(\"\")"
   ]
  },
  {
   "cell_type": "code",
   "execution_count": 6,
   "id": "eac338fb-3cce-4c1e-9ac6-c7494c0b759f",
   "metadata": {},
   "outputs": [
    {
     "name": "stdout",
     "output_type": "stream",
     "text": [
      "    *\n",
      "   **\n",
      "  ***\n",
      " ****\n",
      "*****\n"
     ]
    }
   ],
   "source": [
    "for i in range(1, 6):\n",
    "    for j in range(1, 6 - i):\n",
    "        print(\" \", end=\"\")\n",
    "    for k in range(1, i + 1):\n",
    "        print(\"*\", end=\"\")\n",
    "    print(\"\")\n"
   ]
  },
  {
   "cell_type": "code",
   "execution_count": 7,
   "id": "b88d2ceb-ee04-493a-b80c-61342202c10c",
   "metadata": {},
   "outputs": [
    {
     "name": "stdout",
     "output_type": "stream",
     "text": [
      "    *    \n",
      "   ***   \n",
      "  *****  \n",
      " ******* \n",
      "*********\n",
      " ******* \n",
      "  *****  \n",
      "   ***   \n",
      "    *    \n"
     ]
    }
   ],
   "source": [
    "n = 5\n",
    "for i in range(1, n * 2):\n",
    "    for j in range(1, n * 2):\n",
    "        if (i < n):\n",
    "            if (j > n - i and j < n + i):\n",
    "                print(\"*\", end=\"\")\n",
    "            else:\n",
    "                print(\" \", end=\"\")\n",
    "        else:\n",
    "            if (j > i - n and j < 3 * n - i):\n",
    "                print(\"*\", end=\"\")\n",
    "            else:\n",
    "                print(\" \", end=\"\")\n",
    "    print(\"\")\n"
   ]
  },
  {
   "cell_type": "code",
   "execution_count": 4,
   "id": "0c8ab2c1-cd86-4ab8-9293-a58cb8bb9df4",
   "metadata": {},
   "outputs": [
    {
     "name": "stdout",
     "output_type": "stream",
     "text": [
      "10\n",
      "9\n",
      "8\n",
      "7\n",
      "6\n",
      "5\n",
      "4\n",
      "3\n",
      "2\n",
      "1\n"
     ]
    }
   ],
   "source": [
    "i = 10\n",
    "while i > 0:\n",
    "    print(i)\n",
    "    i = i - 1"
   ]
  },
  {
   "cell_type": "code",
   "execution_count": 17,
   "id": "0434148d-d40c-48f4-b953-dd45bb10451c",
   "metadata": {},
   "outputs": [],
   "source": [
    "def count_divisions(n):\n",
    "    count = 0\n",
    "    while n > 10:\n",
    "        n = n / 3\n",
    "        count += 1\n",
    "    return count"
   ]
  },
  {
   "cell_type": "code",
   "execution_count": 18,
   "id": "60b6a139-69aa-4bb5-b9a7-bd5fe668a80f",
   "metadata": {},
   "outputs": [
    {
     "name": "stdout",
     "output_type": "stream",
     "text": [
      "1\n",
      "2\n",
      "3\n",
      "4\n",
      "5\n"
     ]
    }
   ],
   "source": [
    "# The while loop in Python is used when you want to repeatedly execute a block of code as long as a specific condition is true.\n",
    "# The condition is evaluated before each iteration. If the condition is true, the code inside the loop is executed, and then the condition is evaluated again. \n",
    "# This continues until the condition is false, at which point the loop stops and execution moves to the next line of code outside the loop.\n",
    "\n",
    "i = 1\n",
    "while i <= 5:\n",
    "    print(i)\n",
    "    i += 1"
   ]
  },
  {
   "cell_type": "code",
   "execution_count": null,
   "id": "77099059-aa02-49f4-97f3-8d15e49c78dc",
   "metadata": {},
   "outputs": [],
   "source": []
  }
 ],
 "metadata": {
  "kernelspec": {
   "display_name": "Python 3 (ipykernel)",
   "language": "python",
   "name": "python3"
  },
  "language_info": {
   "codemirror_mode": {
    "name": "ipython",
    "version": 3
   },
   "file_extension": ".py",
   "mimetype": "text/x-python",
   "name": "python",
   "nbconvert_exporter": "python",
   "pygments_lexer": "ipython3",
   "version": "3.10.8"
  }
 },
 "nbformat": 4,
 "nbformat_minor": 5
}
