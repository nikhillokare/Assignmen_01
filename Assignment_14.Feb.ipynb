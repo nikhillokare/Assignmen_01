{
 "cells": [
  {
   "cell_type": "code",
   "execution_count": 1,
   "id": "e8b8ce77-bde6-4fbe-94ca-851f44d8583d",
   "metadata": {},
   "outputs": [],
   "source": [
    "# multithreading - A process of running multiple threads simultaneously within a single process.\n",
    "# use of multithread - To improve the performance of a program by using multiple CPUs or CPU cores.\n",
    "# Module name  - threading"
   ]
  },
  {
   "cell_type": "code",
   "execution_count": 2,
   "id": "6bc4abd4-3ea1-4c57-bce2-89b9f1304d2e",
   "metadata": {},
   "outputs": [],
   "source": [
    "# The threading module is used to handle threads in Python. Threads are lightweight subprocesses that run in parallel to the main program\n",
    "# activeCount() - This function returns the number of thread objects that are currently alive.\n",
    "# currentThread() - This function returns a reference to the current thread object.\n",
    "# enumerate() - This function returns a list of all thread objects that are currently alive. "
   ]
  },
  {
   "cell_type": "code",
   "execution_count": 5,
   "id": "1fbdc49a-3c79-436d-8c24-8429c7b1c04d",
   "metadata": {},
   "outputs": [],
   "source": [
    "# run(): This method is the entry point for thread activity. When a thread object is created, you can override this method with your own implementation to define the behavior of the thread. \n",
    "# This method contains the code that will be executed when the thread is started.\n",
    "\n",
    "# start(): This method starts a new thread by calling the run() method. \n",
    "# When the start() method is called, a new thread is created and it starts executing the run() method in a separate thread of control.\n",
    "\n",
    "# join(): This method blocks the calling thread until the thread whose join() method is called has completed. \n",
    "# It waits for the thread to complete its execution before continuing with the execution of the calling thread.\n",
    "\n",
    "# isAlive(): This method returns a boolean value that indicates whether the thread is alive or not. \n",
    "# A thread is considered alive if it has been started but has not yet completed its execution. The isAlive() method can be used to check if a thread is still running before joining it."
   ]
  },
  {
   "cell_type": "code",
   "execution_count": 27,
   "id": "99579c15-442d-438e-8dfd-d7cf7aeba8b9",
   "metadata": {},
   "outputs": [
    {
     "name": "stdout",
     "output_type": "stream",
     "text": [
      "List of Squares : [0, 1, 4, 9, 16, 25, 36, 49, 64, 81]\n",
      "List of Cubes: [0, 1, 8, 27, 64, 125, 216, 343, 512, 729]\n"
     ]
    }
   ],
   "source": [
    "import threading\n",
    "import time\n",
    "\n",
    "def Square_number():\n",
    "    squares = [i**2 for i in range(10)]\n",
    "    print('List of Squares :',squares)\n",
    "    \n",
    "    \n",
    "def Cube_number():\n",
    "    cube = [i**3 for i in range(10)]\n",
    "    print('List of Cubes:', cube)\n",
    "    \n",
    "thread1 = threading.Thread(target = Square_number)\n",
    "thread2 = threading.Thread(target = Cube_number)\n",
    "\n",
    "thread1.start()\n",
    "thread2.start()"
   ]
  },
  {
   "cell_type": "code",
   "execution_count": 25,
   "id": "807f9df3-34c0-4c19-ab73-1a0044f07e83",
   "metadata": {},
   "outputs": [],
   "source": [
    "#  Advantages:\n",
    "    \n",
    "#     1.Increased performance\n",
    "#     2.Better resource utilization\n",
    "#     3.Improved responsiveness\n",
    "#     4.Modular design\n",
    "  \n",
    "#  Disadvantages:\n",
    "        \n",
    "#         1.Complex design\n",
    "#         2.Increased memory usage\n",
    "#         3.Increased overhead\n",
    "#         4.Difficult to debug"
   ]
  },
  {
   "cell_type": "code",
   "execution_count": 26,
   "id": "ecc1f594-6e72-44d3-a241-f6dbd557a580",
   "metadata": {},
   "outputs": [],
   "source": [
    "# Deadlock:\n",
    "# A deadlock occurs when two or more threads are waiting for each other to release resources that they need to proceed. \n",
    "# This results in a situation where all threads are blocked, and none of them can continue. \n",
    "# Deadlocks can occur when two or more threads are competing for the same resources, such as shared memory or files. Deadlocks can be difficult to detect and resolve, \n",
    "# and they can cause a significant slowdown or even crash of the application.\n",
    "\n",
    "# Race Condition:\n",
    "# A race condition occurs when two or more threads are accessing a shared resource at the same time, and the outcome depends on the order of execution of the threads. \n",
    "# Race conditions can result in unexpected behavior or data corruption."
   ]
  }
 ],
 "metadata": {
  "kernelspec": {
   "display_name": "Python 3 (ipykernel)",
   "language": "python",
   "name": "python3"
  },
  "language_info": {
   "codemirror_mode": {
    "name": "ipython",
    "version": 3
   },
   "file_extension": ".py",
   "mimetype": "text/x-python",
   "name": "python",
   "nbconvert_exporter": "python",
   "pygments_lexer": "ipython3",
   "version": "3.10.8"
  }
 },
 "nbformat": 4,
 "nbformat_minor": 5
}
