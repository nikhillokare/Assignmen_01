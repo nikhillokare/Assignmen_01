{
 "cells": [
  {
   "cell_type": "code",
   "execution_count": 1,
   "id": "32d29a6f-082d-46a2-9cfb-502b6ac0d062",
   "metadata": {},
   "outputs": [],
   "source": [
    "# The Filter method is a feature selection technique that works by ranking the features based on their statistical significance and relevance to the target variable. \n",
    "# The filter method uses statistical tests such as correlation, mutual information, chi-square, and variance threshold to score each feature's importance. \n",
    "# Features with high scores are considered more important and selected for the model. The filter method is easy to implement and computationally efficient \n",
    "# as it does not involve building a model. However, it may not capture the interactions between features and could potentially miss important features that\n",
    "# are highly correlated with other features."
   ]
  },
  {
   "cell_type": "code",
   "execution_count": 2,
   "id": "3e741978-f1f7-49cc-b38a-e17d50dbd3a8",
   "metadata": {},
   "outputs": [],
   "source": [
    "# The Wrapper method is a feature selection technique that evaluates subsets of features using a model to determine the best set of features that improves the model's performance. \n",
    "# Unlike the Filter method, which uses statistical tests, the Wrapper method uses a predictive model to score the subsets of features. \n",
    "# The Wrapper method creates subsets of features and evaluates them by building a model, and the selected features are based on the model's performance. \n",
    "# The Wrapper method is computationally expensive as it involves building models for each subset of features, but it can capture interactions between features and\n",
    "# select a set of features that can optimize the model's performance."
   ]
  },
  {
   "cell_type": "code",
   "execution_count": 3,
   "id": "d59c8831-4f8c-4d52-ba67-34c36583282e",
   "metadata": {},
   "outputs": [],
   "source": [
    "# Embedded feature selection techniques are methods that integrate feature selection within the model-building process. \n",
    "# Common techniques used in embedded feature selection methods include Lasso regression, Ridge regression, Elastic Net, \n",
    "# Decision Trees, and Random Forests. These techniques incorporate feature selection within the model training process,\n",
    "# where the model learns the most relevant features while minimizing overfitting. Embedded feature selection techniques \n",
    "# can improve model performance by selecting the most important features and avoiding irrelevant or redundant features."
   ]
  },
  {
   "cell_type": "code",
   "execution_count": 4,
   "id": "bde136b0-2e4e-4314-b9f8-103fcb74b527",
   "metadata": {},
   "outputs": [],
   "source": [
    "# It may miss important features that are highly correlated with other features.\n",
    "# It cannot capture interactions between features.\n",
    "# It may select redundant features that do not improve the model's performance.\n",
    "# It assumes that each feature is independent of the other features, which may not be true in practice.\n",
    "# It may not consider the target variable's importance, leading to the selection of irrelevant feature"
   ]
  },
  {
   "cell_type": "code",
   "execution_count": 5,
   "id": "3212ed3b-e2f5-4493-a239-c88b8d42a68c",
   "metadata": {},
   "outputs": [],
   "source": [
    " # the Filter method is a good choice when the goal is to quickly identify the most important features for the model, reduce the dimensionality of the dataset, \n",
    " #    and when dealing with large datasets. However, if the focus is on finding the best subset of features that improve the model's performance, then the \n",
    " #    Wrapper method may be more appropriate."
   ]
  },
  {
   "cell_type": "code",
   "execution_count": 1,
   "id": "4f026193-cc44-4cce-a10d-a5dcaa523e87",
   "metadata": {},
   "outputs": [],
   "source": [
    "# Define the target variable\n",
    "# Collect and prepare data\n",
    "# Compute feature correlation\n",
    "# Set a correlation threshold\n",
    "# Select the relevant features\n",
    "# Test the model"
   ]
  },
  {
   "cell_type": "code",
   "execution_count": 2,
   "id": "dd9163da-3370-46a3-a60c-fc3c25eed654",
   "metadata": {},
   "outputs": [],
   "source": [
    "# Choose a machine learning algorithm that supports feature selection through regularization. Examples of such algorithms include Lasso Regression, Ridge Regression, and Elastic Net.\n",
    "\n",
    "# Split the dataset into training and testing sets.\n",
    "\n",
    "# Train the machine learning algorithm on the training set and set the regularization parameter. The regularization parameter determines the strength of the regularization penalty,\n",
    "# which shrinks the coefficients of the features towards zero.\n",
    "\n",
    "# The machine learning algorithm will automatically select the most important features by adjusting the coefficients of each feature during training.\n",
    "# The features with the smallest coefficients are considered to be the least important and can be eliminated.\n",
    "\n",
    "# Evaluate the performance of the model on the testing set using metrics such as accuracy, precision, and recall. If the model's \n",
    "# performance is not satisfactory, try adjusting the regularization parameter and repeating the process.\n",
    "\n",
    "# Finally, use the selected features to make predictions on new data."
   ]
  },
  {
   "cell_type": "code",
   "execution_count": null,
   "id": "620e91d1-3d25-427f-80a6-ce55e5049f78",
   "metadata": {},
   "outputs": [],
   "source": []
  }
 ],
 "metadata": {
  "kernelspec": {
   "display_name": "Python 3 (ipykernel)",
   "language": "python",
   "name": "python3"
  },
  "language_info": {
   "codemirror_mode": {
    "name": "ipython",
    "version": 3
   },
   "file_extension": ".py",
   "mimetype": "text/x-python",
   "name": "python",
   "nbconvert_exporter": "python",
   "pygments_lexer": "ipython3",
   "version": "3.10.8"
  }
 },
 "nbformat": 4,
 "nbformat_minor": 5
}
