{
 "cells": [
  {
   "cell_type": "code",
   "execution_count": 2,
   "id": "0713f414-8418-4c22-807b-071f6dc3f7fb",
   "metadata": {},
   "outputs": [],
   "source": [
    "# statistics is the science of collecting, organizing and analyzing data"
   ]
  },
  {
   "cell_type": "code",
   "execution_count": 3,
   "id": "e909c3eb-dd97-477e-afaf-a5894652f269",
   "metadata": {},
   "outputs": [],
   "source": [
    "# Descriptive statistics are used to summarize and describe the characteristics of a dataset. Examples of descriptive statistics include measures of central tendency such as mean,\n",
    "# median, and mode, as well as measures of variability such as range and standard deviation.\n",
    "# Inferential statistics are used to make inferences or draw conclusions about a population based on a sample. \n",
    "# Examples of inferential statistics include hypothesis testing and confidence intervals."
   ]
  },
  {
   "cell_type": "code",
   "execution_count": 4,
   "id": "5b7ae1e5-9914-41c4-92e5-f139b770a2f5",
   "metadata": {},
   "outputs": [],
   "source": [
    "# Nominal data are categorical data that cannot be ranked or ordered. Examples of nominal data include gender, eye color, or political affiliation.\n",
    "\n",
    "# Ordinal data are data that can be ranked or ordered but do not have equal intervals. Examples of ordinal data include education level, income level,\n",
    "# or rating scales such as \"strongly agree,\" \"agree,\" \"disagree,\" or \"strongly disagree.\"\n",
    "\n",
    "# Interval data are data that have equal intervals but no true zero point. Examples of interval data include temperature in Celsius or Fahrenheit, IQ scores, or years.\n",
    "\n",
    "# Ratio data are data that have equal intervals and a true zero point. Examples of ratio data include weight, height, or income."
   ]
  },
  {
   "cell_type": "code",
   "execution_count": 5,
   "id": "fdcdfe0a-90bb-41cb-85fe-5ad9130a3945",
   "metadata": {},
   "outputs": [],
   "source": [
    "# Qualitative\n",
    "# Qualitative\n",
    "# Quantitative\n",
    "# Quantitative"
   ]
  },
  {
   "cell_type": "code",
   "execution_count": 6,
   "id": "c3f35cc5-365d-4f4a-916d-9cace48dd596",
   "metadata": {},
   "outputs": [],
   "source": [
    "# 1.Nominal Scale Data:\n",
    "# Qualitative/Catagorical\n",
    "# eg.gender,colors\n",
    "# order does not matter\n",
    "\n",
    "# 2.Ordinal Scale data\n",
    "# Ranking is important\n",
    "# order matter\n",
    "# difference cannot be measured\n",
    "\n",
    "# 3.Interval Scale Data\n",
    "# the order matter\n",
    "# difference can be measured\n",
    "# ratio cannot be measured\n",
    "# no '0' stating point\n",
    "\n",
    "# 4.Ratio Scale data\n",
    "# the order matter\n",
    "# difference are measurable(including ratio)\n",
    "# contains a '0' starting point"
   ]
  },
  {
   "cell_type": "code",
   "execution_count": 7,
   "id": "477818fc-8096-4fe3-8d26-2b72fa995d34",
   "metadata": {},
   "outputs": [],
   "source": [
    "# It is important to understand the level of measurement when analyzing data because different statistical methods and measures can be used for different types of data.\n",
    "# For example, measures of central tendency such as mean, median, and mode can be used for interval and ratio data, but not for nominal and ordinal data. Similarly,\n",
    "# inferential statistics such as t-tests and ANOVA require interval or ratio data, but not nominal or ordinal data."
   ]
  },
  {
   "cell_type": "code",
   "execution_count": 8,
   "id": "e713e1f6-b7e9-4b6c-89f0-339a6e6c9029",
   "metadata": {},
   "outputs": [],
   "source": [
    "# Nominal data type represents categories or labels that cannot be ordered, while ordinal data type represents categories that can be ordered but do not have equal intervals between them. \n",
    "# For example, gender is a nominal variable because it represents two distinct categories that cannot be ordered, while a rating scale such as \"strongly agree,\" \"agree,\" \"disagree,\"\n",
    "# or \"strongly disagree\" is an ordinal variable because it represents categories that can be ordered, but the intervals between them are not equal."
   ]
  },
  {
   "cell_type": "code",
   "execution_count": 10,
   "id": "8d0cca20-bf9f-4659-8ea4-b607dd785916",
   "metadata": {},
   "outputs": [],
   "source": [
    "# . A box plot can be used to display data in terms of range. A box plot displays the range of the data by showing the minimum and maximum values, as well as the quartiles and the median"
   ]
  },
  {
   "cell_type": "code",
   "execution_count": 11,
   "id": "cd3b8d5a-666a-4e4a-801f-6440e3102ce2",
   "metadata": {},
   "outputs": [],
   "source": [
    "# Descriptive statistics are used to summarize and describe the characteristics of a dataset. For example, measures of central tendency such as mean, median, and mode, as well as measures of variability such as range and standard deviation, are descriptive statistics.\n",
    "\n",
    "# Inferential statistics, on the other hand, are used to make inferences or draw conclusions about a population based on a"
   ]
  },
  {
   "cell_type": "code",
   "execution_count": 12,
   "id": "31fd3ce5-63cd-43bb-81c9-d3d0a1e61f74",
   "metadata": {},
   "outputs": [],
   "source": [
    "# The mean is the average of a set of numbers and is calculated by adding up all the values and dividing by the number of values. The mean is used to describe the typical value of a dataset.\n",
    "\n",
    "# The median is the middle value in a set of numbers and is used to describe the center of a dataset. It is less affected by extreme values than the mean.\n",
    "\n",
    "# The mode is the value that occurs most frequently in a set of numbers and is used to describe the most common value in a dataset.\n",
    "\n",
    "# The range is the difference between the maximum and minimum values in a dataset and is used to describe the spread of the data.\n",
    "\n",
    "# The variance is a measure of how spread out a set of data is from its mean. It is calculated by taking the average of the squared differences between each data point and the mean. A high variance indicates that the data is spread out, while a low variance indicates that the data is tightly clustered around the mean.\n",
    "\n",
    "# The standard deviation is the square root of the variance and is also a measure of how spread out the data is from its mean. It is a widely used measure of variability that indicates the typical amount of deviation of the data points from the mean. A high standard deviation indicates that the data is more spread out, while a low standard deviation indicates that the data is more tightly clustered around the mean."
   ]
  },
  {
   "cell_type": "code",
   "execution_count": null,
   "id": "3ebcd338-9d3c-458a-b5e6-f09acfd7b4b6",
   "metadata": {},
   "outputs": [],
   "source": []
  }
 ],
 "metadata": {
  "kernelspec": {
   "display_name": "Python 3 (ipykernel)",
   "language": "python",
   "name": "python3"
  },
  "language_info": {
   "codemirror_mode": {
    "name": "ipython",
    "version": 3
   },
   "file_extension": ".py",
   "mimetype": "text/x-python",
   "name": "python",
   "nbconvert_exporter": "python",
   "pygments_lexer": "ipython3",
   "version": "3.10.8"
  }
 },
 "nbformat": 4,
 "nbformat_minor": 5
}
