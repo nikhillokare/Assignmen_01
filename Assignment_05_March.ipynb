{
  "nbformat": 4,
  "nbformat_minor": 0,
  "metadata": {
    "colab": {
      "provenance": []
    },
    "kernelspec": {
      "name": "python3",
      "display_name": "Python 3"
    },
    "language_info": {
      "name": "python"
    }
  },
  "cells": [
    {
      "cell_type": "code",
      "execution_count": 4,
      "metadata": {
        "id": "OuKTaoMG0Qmq"
      },
      "outputs": [],
      "source": [
        "from bokeh.plotting import figure,output_file,show\n",
        "\n",
        "p = figure(title='bokeh plot', x_axis_label = 'X-axis',y_axis_label='Y-axis',plot_width=400, plot_height=400)\n",
        "\n",
        "x = [1,2,3]\n",
        "y = [4,5,6]\n",
        "\n",
        "p.line(x,y)\n",
        "\n",
        "show(p)"
      ]
    },
    {
      "cell_type": "code",
      "source": [
        "# Glyphs in Bokeh are visual markers used to represent data points on a plot.\n",
        "# To add glyphs to a Bokeh plot, you can use the glyph method of a figure object. Here's an example of adding circles as glyphs to a Bokeh plot:\n",
        "\n",
        "from bokeh.plotting import figure,output_file,show\n",
        "\n",
        "p = figure(title='bokeh plot', x_axis_label = 'X-axis',y_axis_label='Y-axis',plot_width=400, plot_height=400)\n",
        "\n",
        "x = [1,2,3]\n",
        "y = [4,5,6]\n",
        "\n",
        "p.circle(x,y,size = 20, color = 'red')\n",
        "show(p)"
      ],
      "metadata": {
        "id": "9MBgbHIO06UX"
      },
      "execution_count": 6,
      "outputs": []
    },
    {
      "cell_type": "code",
      "source": [
        "x = [2,3,4,5,6,7]\n",
        "y = [5,6,7,8,9,10]\n",
        "output_file('line.html')\n",
        "p = figure(title='lineplot')\n",
        "p.scatter(x,y, fill_color = 'red', legend_label = 'red points',size = 20)\n",
        "show(p)"
      ],
      "metadata": {
        "id": "Cl1rC_0f11Kc"
      },
      "execution_count": 7,
      "outputs": []
    },
    {
      "cell_type": "code",
      "source": [
        "# A Bokeh server is a Python application that allows you to create interactive data visualizations with Bokeh that can be displayed in a web browser. The Bokeh server provides a simple way to create dynamic plots that can be updated in real-time, allowing users to interact with the data and explore it in new ways.\n",
        "# To use the Bokeh server, you need to create a Python script that defines your plot and its interactivity. This script is then run on the server, and a web page is generated that displays the plot. Users can then interact with the plot in their web browser, and any changes they make will be updated in real-time on the server.\n"
      ],
      "metadata": {
        "id": "cWw0C4to2Tul"
      },
      "execution_count": 8,
      "outputs": []
    },
    {
      "cell_type": "code",
      "source": [
        "# Create the Bokeh plot in Python using the Bokeh library.\n",
        "# Save the plot to an HTML file using the output_file and save functions provided by Bokeh.\n",
        "# Create a Flask or Django view function that reads the HTML file and returns it as a response to a web request.\n",
        "# Create an HTML template that includes the plot HTML in the page.\n",
        "# Render the HTML template in the Flask or Django view function, passing the plot HTML as a variable.\n",
        "# Serve the Flask or Django application to display the plot in a web browser."
      ],
      "metadata": {
        "id": "bu0BKTtS2-Se"
      },
      "execution_count": 9,
      "outputs": []
    },
    {
      "cell_type": "code",
      "source": [],
      "metadata": {
        "id": "fkWPzawp3ABx"
      },
      "execution_count": null,
      "outputs": []
    }
  ]
}