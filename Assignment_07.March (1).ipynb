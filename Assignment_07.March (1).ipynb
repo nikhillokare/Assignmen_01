{
 "cells": [
  {
   "cell_type": "code",
   "execution_count": 1,
   "id": "7211a272-351e-4b54-825f-7049ff31a761",
   "metadata": {},
   "outputs": [],
   "source": [
    "# mean, median, mode"
   ]
  },
  {
   "cell_type": "code",
   "execution_count": 2,
   "id": "83cce967-6fb6-494f-b487-1c78f30e89f0",
   "metadata": {},
   "outputs": [],
   "source": [
    "# The mean is calculated by summing up all the values in a dataset and dividing by the total number of values. It is also known as the arithmetic average.\n",
    "# The median is the middle value of a dataset when it is arranged in order from lowest to highest. If the dataset contains an even number of values,\n",
    "# the median is the average of the two middle values.\n",
    "# The mode is the value that appears most frequently in a dataset. It can be used for both categorical and continuous data. \n",
    "# The mode is useful when the dataset has a clear peak or cluster of values."
   ]
  },
  {
   "cell_type": "code",
   "execution_count": 3,
   "id": "57d575b1-a35e-4a7b-9d27-174098ffb74a",
   "metadata": {},
   "outputs": [],
   "source": [
    "height = [178,177,176,177,178.2,178,175,179,180,175,178.9,176.2,177,172.5,178,176.5]"
   ]
  },
  {
   "cell_type": "code",
   "execution_count": 5,
   "id": "5abfee29-a040-476e-87df-39d81a539ed0",
   "metadata": {},
   "outputs": [],
   "source": [
    "import numpy as np"
   ]
  },
  {
   "cell_type": "code",
   "execution_count": 6,
   "id": "2b70ef59-62c8-4579-9be0-16d9684d19b5",
   "metadata": {},
   "outputs": [
    {
     "data": {
      "text/plain": [
       "177.01875"
      ]
     },
     "execution_count": 6,
     "metadata": {},
     "output_type": "execute_result"
    }
   ],
   "source": [
    "np.mean(height)"
   ]
  },
  {
   "cell_type": "code",
   "execution_count": 7,
   "id": "aaf03158-bfd8-4a0d-8d55-80adae8d3308",
   "metadata": {},
   "outputs": [
    {
     "data": {
      "text/plain": [
       "177.0"
      ]
     },
     "execution_count": 7,
     "metadata": {},
     "output_type": "execute_result"
    }
   ],
   "source": [
    "np.median(height)"
   ]
  },
  {
   "cell_type": "code",
   "execution_count": 10,
   "id": "53c21277-7f8e-4665-a66d-f73b90519029",
   "metadata": {},
   "outputs": [],
   "source": [
    "import statistics as st"
   ]
  },
  {
   "cell_type": "code",
   "execution_count": 11,
   "id": "f5e63b05-6180-470e-8ddd-9d56ea2be038",
   "metadata": {},
   "outputs": [
    {
     "data": {
      "text/plain": [
       "178"
      ]
     },
     "execution_count": 11,
     "metadata": {},
     "output_type": "execute_result"
    }
   ],
   "source": [
    "st.mode(height)"
   ]
  },
  {
   "cell_type": "code",
   "execution_count": 12,
   "id": "fd5def52-af97-4d93-b7d7-d8fd531f1aae",
   "metadata": {},
   "outputs": [
    {
     "data": {
      "text/plain": [
       "1.7885814036548633"
      ]
     },
     "execution_count": 12,
     "metadata": {},
     "output_type": "execute_result"
    }
   ],
   "source": [
    "np.std(height)"
   ]
  },
  {
   "cell_type": "code",
   "execution_count": 13,
   "id": "040f5b2a-6a83-40fb-aa7a-cfa52af426ce",
   "metadata": {},
   "outputs": [],
   "source": [
    "# he range is the simplest measure of dispersion, which is the difference between the maximum and minimum values in the dataset.\n",
    "# The variance is a measure of how much the data values deviate from the mean of the dataset. \n",
    "# It is calculated by taking the average of the squared differences between each data value and the mean.\n",
    "# The standard deviation is the square root of the variance and measures how much the data values deviate from the mean in the same units as the original data."
   ]
  },
  {
   "cell_type": "code",
   "execution_count": 14,
   "id": "7f02650e-e9b1-4065-9cf8-2fa20b56f727",
   "metadata": {},
   "outputs": [],
   "source": [
    "# A Venn diagram is a graphical representation of sets or groups that shows their relationships and overlapping regions."
   ]
  },
  {
   "cell_type": "code",
   "execution_count": 16,
   "id": "40820561-3a58-4ec4-bf8e-5867acfc52d2",
   "metadata": {},
   "outputs": [
    {
     "name": "stdout",
     "output_type": "stream",
     "text": [
      "{2, 6}\n"
     ]
    }
   ],
   "source": [
    "A = {2,3,4,5,6,7}\n",
    "B = {0,2,6,8,10}\n",
    "\n",
    "intersections = A.intersection(B)\n",
    "print(intersections)"
   ]
  },
  {
   "cell_type": "code",
   "execution_count": 17,
   "id": "4b2cc6bd-e89e-46e3-80fc-6f9345d49a62",
   "metadata": {},
   "outputs": [
    {
     "name": "stdout",
     "output_type": "stream",
     "text": [
      "{0, 2, 3, 4, 5, 6, 7, 8, 10}\n"
     ]
    }
   ],
   "source": [
    "union = A.union(B)\n",
    "print(union)"
   ]
  },
  {
   "cell_type": "code",
   "execution_count": 18,
   "id": "ecd580db-f9a8-43e5-a81c-d33066582836",
   "metadata": {},
   "outputs": [],
   "source": [
    "# Skewness is a measure of the asymmetry of a probability distribution or a dataset. In a symmetric distribution, the mean, median, \n",
    "# and mode are all equal and located at the center of the distribution. However, in a skewed distribution, the mean, median, and mode are different and are located at different points in the distribution.\n"
   ]
  },
  {
   "cell_type": "code",
   "execution_count": 19,
   "id": "64aed7df-0f45-422c-9579-1ced3be7ffa9",
   "metadata": {},
   "outputs": [],
   "source": [
    "# If a dataset is right skewed, the mean will be greater than the median. This is because the right tail of the distribution is longer, \n",
    "# and it contains the larger values that pull the mean to the right"
   ]
  },
  {
   "cell_type": "code",
   "execution_count": 20,
   "id": "b8491a58-f07a-4c69-abb4-257b6557bd55",
   "metadata": {},
   "outputs": [],
   "source": [
    "# Covariance measures the degree to which two variables vary together. It is a measure of the linear relationship between two variables, \n",
    "# and it can take on any value, positive or negative. Covariance can be affected by the units of measurement of the variables, and it does not provide a standardized measure of the strength of the relationship.\n",
    "\n",
    "# Correlation measures the strength and direction of the linear relationship between two variables,\n",
    "# but it is a standardized measure that ranges between -1 and 1. A correlation of 1 indicates a perfect positive relationship, a correlation of -1 indicates\n",
    "# a perfect negative relationship, and a correlation of 0 indicates no linear relationship. Correlation is not affected by the units of measurement of the variables."
   ]
  },
  {
   "cell_type": "code",
   "execution_count": 22,
   "id": "6b31eaae-b0c7-4bb9-b1be-01f9d0e5363c",
   "metadata": {},
   "outputs": [
    {
     "data": {
      "text/plain": [
       "3.0"
      ]
     },
     "execution_count": 22,
     "metadata": {},
     "output_type": "execute_result"
    }
   ],
   "source": [
    "# Sample mean = (sum of all values) / (number of observations)\n",
    "import numpy as np\n",
    "ds = [1,2,3,4,5]\n",
    "np.mean(ds)"
   ]
  },
  {
   "cell_type": "code",
   "execution_count": 23,
   "id": "417d015b-b40b-4c26-a7a8-1ff70e168ef5",
   "metadata": {},
   "outputs": [],
   "source": [
    "# For data that follow a normal distribution, the mean, median, and mode will all be equal and located at the center of the distribution. \n",
    "# This is because the normal distribution is symmetric around the mean, and the median and mode will also be located at the same point as the mean. \n",
    "# In other words, for a normal distribution, the measure of central tendency (mean, median, and mode) will be the same."
   ]
  },
  {
   "cell_type": "code",
   "execution_count": 24,
   "id": "ea8ff3bc-3b7e-4e14-b41b-351e0a2e4dea",
   "metadata": {},
   "outputs": [],
   "source": [
    "# Covariance measures the degree to which two variables vary together. It is a measure of the linear relationship between two variables, \n",
    "# and it can take on any value, positive or negative. Covariance can be affected by the units of measurement of the variables, and it does \n",
    "# not provide a standardized measure of the strength of the relationship.\n",
    "\n",
    "# Correlation measures the strength and direction of the linear relationship between two variables, \n",
    "# but it is a standardized measure that ranges between -1 and 1. A correlation of 1 indicates a perfect positive relationship, \n",
    "# a correlation of -1 indicates a perfect negative relationship, and a correlation of 0 indicates no linear relationship. \n",
    "# Correlation is not affected by the units of measurement of the variables."
   ]
  },
  {
   "cell_type": "code",
   "execution_count": null,
   "id": "52cf1099-44ef-4186-b436-b0b272106859",
   "metadata": {},
   "outputs": [],
   "source": [
    "# Outliers are values in a dataset that are significantly different from other values in the dataset. Outliers can affect measures of central"
   ]
  }
 ],
 "metadata": {
  "kernelspec": {
   "display_name": "Python 3 (ipykernel)",
   "language": "python",
   "name": "python3"
  },
  "language_info": {
   "codemirror_mode": {
    "name": "ipython",
    "version": 3
   },
   "file_extension": ".py",
   "mimetype": "text/x-python",
   "name": "python",
   "nbconvert_exporter": "python",
   "pygments_lexer": "ipython3",
   "version": "3.10.8"
  }
 },
 "nbformat": 4,
 "nbformat_minor": 5
}
