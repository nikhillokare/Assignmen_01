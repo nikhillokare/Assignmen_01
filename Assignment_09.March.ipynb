{
 "cells": [
  {
   "cell_type": "code",
   "execution_count": 2,
   "id": "54dbb5ee-c698-40d7-9373-2991b9b4ebf2",
   "metadata": {},
   "outputs": [],
   "source": [
    "# Probability Mass Function (PMF) is a function that gives the probability of a discrete random variable taking on a specific value. \n",
    "# It maps each possible value of a discrete random variable to its probability of occurrence. On the other hand, Probability Density Function (PDF) is a \n",
    "# function that describes the probability density of a continuous random variable.\n",
    "\n",
    "    # P(X = 0) = 0.5\n",
    "    # P(X = 1) = 0.5\n",
    "# Where X is the random variable that represents the outcome of the coin flip. The PDF of a continuous random variable, such as the height of people in a population,\n",
    "# is a function that describes the relative likelihood of a person having a specific height."
   ]
  },
  {
   "cell_type": "code",
   "execution_count": 4,
   "id": "79aa4d68-3553-4a70-87d7-90564335c6ce",
   "metadata": {},
   "outputs": [],
   "source": [
    "# Cumulative Density Function (CDF) is a function that gives the probability that a random variable is less than or equal to a certain value. \n",
    "# It is defined as the integral of the Probability Density Function (PDF). \n",
    "# CDF is used to calculate the probability of a random variable taking on a value within a specific range\n",
    "\n",
    "# F(x) = P(X ≤ x)\n",
    "# Where X is the random variable that represents the outcome of the die roll. The CDF tells us the probability that the die roll will be less than or equal to a certain value."
   ]
  },
  {
   "cell_type": "code",
   "execution_count": 5,
   "id": "25b086d2-588d-4518-bf27-2071da52b488",
   "metadata": {},
   "outputs": [],
   "source": [
    "# The normal distribution is used as a model in many situations where a continuous variable is assumed to be normally distributed. \n",
    "# For example, the normal distribution can be used to model the distribution of heights or weights in a population, the distribution of \n",
    "# errors in a scientific experiment, or the distribution of scores on a standardized test.\n",
    "# The parameters of the normal distribution are the mean (µ) and the standard deviation (σ). \n",
    "# The mean determines the center of the distribution, while the standard deviation determines the spread of the distribution.    "
   ]
  },
  {
   "cell_type": "code",
   "execution_count": 6,
   "id": "97c8ec88-9309-4ac7-968c-605c9537bdd2",
   "metadata": {},
   "outputs": [],
   "source": [
    "# Normal distribution is an important concept in statistics as it provides a baseline for modeling many real-world phenomena. \n",
    "# It is used to describe the behavior of many variables in a wide range of fields, from physical sciences to social sciences, economics, \n",
    "# and engineering. Some of the real-life examples of Normal Distribution are the distribution of heights and weights in a population, \n",
    "# the distribution of test scores, the distribution of blood pressure, and the distribution of errors in a scientific experiment."
   ]
  },
  {
   "cell_type": "code",
   "execution_count": 7,
   "id": "0dd61572-d9ee-460d-92c8-53a263de9821",
   "metadata": {},
   "outputs": [],
   "source": [
    "# Bernoulli distribution is a special case of the binomial distribution where there is only one trial. It is used to model the probability of a binary outcome, such as success or failure. \n",
    "# For example, consider the case of flipping a fair coin. The outcome of the coin flip can be modeled using the Bernoulli distribution, where the probability of success\n",
    "# (i.e., heads) is p = 0.5. The key difference between Bernoulli distribution and Binomial distribution is that Bernoulli distribution models a single trial, \n",
    "# whereas Binomial distribution models multiple independent and identically distributed Bernoulli trials with the same probability of success."
   ]
  },
  {
   "cell_type": "code",
   "execution_count": 9,
   "id": "3642dc69-42cb-427e-bf4e-0b2039cc3e36",
   "metadata": {},
   "outputs": [],
   "source": [
    "# Given, mean (μ) = 50, standard deviation (σ) = 10\n",
    "# We need to find the probability of a randomly selected observation being greater than 60.\n",
    "# Using the formula for z-score, we have:\n",
    "\n",
    "# z = (x - μ) / σ\n",
    "\n",
    "# Here, x = 60, μ = 50, σ = 10\n",
    "\n",
    "# z = (60 - 50) / 10\n",
    "# z = 1\n",
    "\n",
    "# Using the standard normal distribution table, the probability of a z-score being less than 1 is 0.8413. \n",
    "# Therefore, the probability of a randomly selected observation being greater than 60 is:\n",
    "\n",
    "# P(X > 60) = P(Z > 1) = 1 - P(Z < 1) = 1 - 0.8413 = 0.1587 or 15.87%\n",
    "\n",
    "# Therefore, the probability of a randomly selected observation being greater than 60 is 15.87%."
   ]
  },
  {
   "cell_type": "code",
   "execution_count": 10,
   "id": "5668a6cd-b6bd-42bc-87a5-a5cdb2797ec2",
   "metadata": {},
   "outputs": [],
   "source": [
    "# Uniform Distribution is a probability distribution where all possible values of a random variable occur with equal probability. \n",
    "# In other words, every outcome in the range of the distribution is equally likely to occur. \n",
    "# An example of uniform distribution is rolling a fair die, where each face has an equal probability of appearing."
   ]
  },
  {
   "cell_type": "code",
   "execution_count": 11,
   "id": "5b807077-ff7a-40c6-a746-d5dde48dcdee",
   "metadata": {},
   "outputs": [],
   "source": [
    "# The z-score is a standardized score that represents the number of standard deviations a data point is from the mean of its distribution. It is calculated as:\n",
    "\n",
    "# z = (x - μ) / σ\n",
    "\n",
    "# where x is the observed value, μ is the mean, and σ is the standard deviation of the distribution.\n",
    "\n",
    "# The z-score is important because it allows us to compare observations from different distributions on a common scale. It also helps us to identify unusual or extreme observations in a dataset."
   ]
  },
  {
   "cell_type": "code",
   "execution_count": 12,
   "id": "9d164244-c791-4708-8b29-2e615fee636e",
   "metadata": {},
   "outputs": [],
   "source": [
    "# Central Limit Theorem states that the distribution of the sample mean approaches a normal distribution as the sample size increases, regardless of the shape of the population distribution. \n",
    "# This means that if we take many random samples from a population and calculate the mean of each sample, the distribution of these sample means will be approximately normal,\n",
    "# regardless of the underlying population distribution."
   ]
  },
  {
   "cell_type": "code",
   "execution_count": 13,
   "id": "c7d6eae4-7a7e-41cb-ac65-a3077c02383e",
   "metadata": {},
   "outputs": [],
   "source": [
    "# Random sampling: The samples are drawn randomly from the population.\n",
    "# Independence: The samples are independent of each other.\n",
    "# Sample size: The sample size should be large enough (typically n > 30) to ensure that the sample means are normally distributed.\n",
    "# Finite variance: The population should have a finite variance."
   ]
  },
  {
   "cell_type": "code",
   "execution_count": null,
   "id": "e771bd04-b4b0-4552-bbf0-8cabf7402f29",
   "metadata": {},
   "outputs": [],
   "source": []
  }
 ],
 "metadata": {
  "kernelspec": {
   "display_name": "Python 3 (ipykernel)",
   "language": "python",
   "name": "python3"
  },
  "language_info": {
   "codemirror_mode": {
    "name": "ipython",
    "version": 3
   },
   "file_extension": ".py",
   "mimetype": "text/x-python",
   "name": "python",
   "nbconvert_exporter": "python",
   "pygments_lexer": "ipython3",
   "version": "3.10.8"
  }
 },
 "nbformat": 4,
 "nbformat_minor": 5
}
