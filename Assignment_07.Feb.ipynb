{
 "cells": [
  {
   "cell_type": "code",
   "execution_count": 22,
   "id": "4f794217-006a-4a66-86c7-4e0c48627eb5",
   "metadata": {},
   "outputs": [],
   "source": [
    "def checkPassword(password):\n",
    "    if len(password) <= 10:\n",
    "        return 'Invalid password'\n",
    "    \n",
    "#   check number of lowercase and uppercase letters\n",
    "    upper_case = 0;\n",
    "    lower_case = 0;\n",
    "    \n",
    "    for ptr in password:\n",
    "        if ptr.uppercase():\n",
    "            upper_case += 1\n",
    "        elif ptr.losercase():\n",
    "            lower_case += 1\n",
    "    if upper_case < 2 and lower_case < 2:\n",
    "        return 'Invalid password'\n",
    "\n",
    "#   check presence of number and special character\n",
    "    \n",
    "    number_digit = 0\n",
    "    special_number = 0\n",
    "    \n",
    "    for ptr2 in password:\n",
    "        if ptr2.isdigit():\n",
    "            numerb_digit += 1\n",
    "        elif ptr2 in \"!@#$%^&*(),.?\\\":{}|<>\":\n",
    "            special_number += 1\n",
    "    if  number_digit == 0 and  special_number < 3:\n",
    "        return 'Invalid pawword'\n",
    "    \n",
    "    return 'Valid password'"
   ]
  },
  {
   "cell_type": "code",
   "execution_count": 23,
   "id": "af9dcac6-ff8d-4e8b-bb58-4526a92e5182",
   "metadata": {},
   "outputs": [
    {
     "name": "stdin",
     "output_type": "stream",
     "text": [
      "Enter The password Nikhil\n"
     ]
    },
    {
     "data": {
      "text/plain": [
       "'Invalid password'"
      ]
     },
     "execution_count": 23,
     "metadata": {},
     "output_type": "execute_result"
    }
   ],
   "source": [
    "password = input('Enter The password')\n",
    "checkPassword(password)"
   ]
  },
  {
   "cell_type": "code",
   "execution_count": 28,
   "id": "d134ab5e-1b86-4d8a-a2dc-5aaa307684f4",
   "metadata": {},
   "outputs": [
    {
     "name": "stdout",
     "output_type": "stream",
     "text": [
      "True\n",
      "True\n",
      "False\n",
      "[('orange', 80), ('mango', 99), ('grapes', 1000)]\n",
      "[1, 4, 9, 16, 25, 36, 49, 64, 81, 100]\n",
      "[1.0, 1.2599210498948732, 1.4422495703074083, 1.5874010519681994, 1.7099759466766968, 1.8171205928321397, 1.912931182772389, 2.0, 2.080083823051904, 2.154434690031884]\n",
      "Odd numbers:  [1, 3, 5, 7, 9]\n",
      "Positive numbers:  [1, 2, 3, 4, 5, 6]\n",
      "Negative numbers:  [-1, -2, -3, -4, -5]\n"
     ]
    }
   ],
   "source": [
    "# Check if the string starts with a particular letter\n",
    "string = \"hello world\"\n",
    "letter = \"h\"\n",
    "result = lambda s, l: s.startswith(l)\n",
    "print(result(string, letter))\n",
    "\n",
    "# Check if the string is numeric\n",
    "string1 = \"123\"\n",
    "string2 = \"abc123\"\n",
    "\n",
    "result = lambda s: s.isnumeric()\n",
    "print(result(string1))\n",
    "print(result(string2)) \n",
    "\n",
    "# Sort a list of tuples having fruit names and their quantity\n",
    "fruits = [(\"mango\", 99), (\"orange\", 80), (\"grapes\", 1000)]\n",
    "\n",
    "sorted_fruits = sorted(fruits, key=lambda x: x[1])\n",
    "print(sorted_fruits) # Output: [(\"orange\", 80), (\"mango\", 99), (\"grapes\", 1000)]\n",
    "\n",
    "# Find the squares of numbers from 1 to 10:\n",
    "squares = [x**2 for x in range(1, 11)]\n",
    "print(squares) # Output: [1, 4, 9, 16, 25, 36, 49, 64, 81, 100]\n",
    "\n",
    "# Find the cube root of numbers from 1 to 10\n",
    "numbers = [1, 2, 3, 4, 5, 6, 7, 8, 9, 10]\n",
    "cube_roots = list(map(lambda x: x**(1/3), numbers))\n",
    "print(cube_roots) # Output: [1.0, 1.2599210498948732, 1.4422495703074083, 1.587\n",
    "\n",
    "# check if a given number is even\n",
    "is_even = lambda x: x % 2 == 0\n",
    "\n",
    "# filter odd numbers from the list using filter() and is_even lambda function\n",
    "numbers = [1, 2, 3, 4, 5, 6, 7, 8, 9, 10]\n",
    "odd_numbers = list(filter(lambda x: not is_even(x), numbers))\n",
    "\n",
    "print(\"Odd numbers: \", odd_numbers)\n",
    "\n",
    "# sample list of integers\n",
    "numbers = [1, 2, 3, 4, 5, 6, -1, -2, -3, -4, -5, 0]\n",
    "\n",
    "# list of positive integers using list comprehension\n",
    "positive_numbers = [num for num in numbers if num > 0]\n",
    "\n",
    "# list of negative integers using list comprehension\n",
    "negative_numbers = [num for num in numbers if num < 0]\n",
    "\n",
    "print(\"Positive numbers: \", positive_numbers)\n",
    "print(\"Negative numbers: \", negative_numbers)\n"
   ]
  },
  {
   "cell_type": "code",
   "execution_count": null,
   "id": "27fc15cf-2c5c-418d-a214-3093e8dbd3af",
   "metadata": {},
   "outputs": [],
   "source": []
  }
 ],
 "metadata": {
  "kernelspec": {
   "display_name": "Python 3 (ipykernel)",
   "language": "python",
   "name": "python3"
  },
  "language_info": {
   "codemirror_mode": {
    "name": "ipython",
    "version": 3
   },
   "file_extension": ".py",
   "mimetype": "text/x-python",
   "name": "python",
   "nbconvert_exporter": "python",
   "pygments_lexer": "ipython3",
   "version": "3.10.8"
  }
 },
 "nbformat": 4,
 "nbformat_minor": 5
}
