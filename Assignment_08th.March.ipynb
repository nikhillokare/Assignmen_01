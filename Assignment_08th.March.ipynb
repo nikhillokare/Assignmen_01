{
 "cells": [
  {
   "cell_type": "code",
   "execution_count": 1,
   "id": "58761b6a-d2c7-4e3e-8d2d-331591f7b165",
   "metadata": {},
   "outputs": [],
   "source": [
    "# A Probability density function (PDF) is a function that describes the likelihood of a random variable taking on a certain value within a given range."
   ]
  },
  {
   "cell_type": "code",
   "execution_count": 2,
   "id": "a5ee8b0c-8dbe-4930-8c10-9b802bf86d1b",
   "metadata": {},
   "outputs": [],
   "source": [
    "# Normal Distribution\n",
    "# Binomial Distribution\n",
    "# Poisson Distribution\n",
    "# Exponential Distribution\n",
    "# Uniform Distribution\n",
    "# Chi-Square Distribution\n",
    "# Students t-Distribution\n",
    "# F-Distribution\n",
    "# Gamma Distribution\n",
    "# Beta Distribution"
   ]
  },
  {
   "cell_type": "code",
   "execution_count": 4,
   "id": "7e80bd99-521b-49f1-8c6c-6caec40619ba",
   "metadata": {},
   "outputs": [],
   "source": [
    "# from scipy.stats import norm\n",
    "\n",
    "# def normal_pdf(x, mean, std_dev):\n",
    "#     \"\"\"\n",
    "#     Calculate the probability density function (PDF) of a normal distribution at a given point.\n",
    "    \n",
    "#     Parameters:\n",
    "#     x (float): The point to evaluate the PDF at.\n",
    "#     mean (float): The mean of the normal distribution.\n",
    "#     std_dev (float): The standard deviation of the normal distribution.\n",
    "    \n",
    "#     Returns:\n",
    "#     float: The value of the PDF at the given point.\n",
    "#     \"\"\"\n",
    "#     return norm.pdf(x, loc=mean, scale=std_dev)"
   ]
  },
  {
   "cell_type": "code",
   "execution_count": 5,
   "id": "93bfdf68-f725-4972-8cb4-57e4a7662429",
   "metadata": {},
   "outputs": [],
   "source": [
    "# It is a discrete probability distribution.\n",
    "# It models the number of successes in a fixed number of independent trials, where the probability of success is constant.\n",
    "# The mean of the distribution is given by np, where n is the number of trials and p is the probability of success in each trial.\n",
    "# The variance of the distribution is given by np(1-p)\n",
    "\n",
    "# Flipping a coin a fixed number of times and counting the number of heads.\n",
    "# Testing a batch of products for defects and counting the number of defective products."
   ]
  },
  {
   "cell_type": "code",
   "execution_count": 6,
   "id": "ae71d5bc-b94c-401c-85b2-648c4b474175",
   "metadata": {},
   "outputs": [
    {
     "data": {
      "image/png": "[encoded data removed]",
      "text/plain": [
       "<Figure size 640x480 with 1 Axes>"
      ]
     },
     "metadata": {},
     "output_type": "display_data"
    }
   ],
   "source": [
    "import numpy as np\n",
    "import matplotlib.pyplot as plt\n",
    "\n",
    "# Generate a random sample of size 1000 from a binomial distribution\n",
    "n = 1000\n",
    "p = 0.4\n",
    "sample = np.random.binomial(n, p, size=1000)\n",
    "\n",
    "# Plot a histogram of the sample\n",
    "plt.hist(sample, bins=20, alpha=0.5)\n",
    "plt.xlabel('Number of successes')\n",
    "plt.ylabel('Frequency')\n",
    "plt.title('Binomial distribution with n=1000, p=0.4')\n",
    "plt.show()"
   ]
  },
  {
   "cell_type": "code",
   "execution_count": 8,
   "id": "f609e7c0-9049-4612-a1bc-47f4239593df",
   "metadata": {},
   "outputs": [],
   "source": [
    "# import math\n",
    "\n",
    "# def poisson_cdf(x, mu):\n",
    "#     \"\"\"Calculates the cumulative distribution function of a Poisson distribution\n",
    "#     with mean mu at point x.\"\"\"\n",
    "#     cdf = 0\n",
    "#     for i in range(x+1):\n",
    "#         cdf += math.exp(-mu) * mu**i / math.factorial(i)\n",
    "#     return cdf"
   ]
  },
  {
   "cell_type": "code",
   "execution_count": 9,
   "id": "dc876e5f-6e12-47e5-967f-1e4dadf90db9",
   "metadata": {},
   "outputs": [],
   "source": [
    "# The main difference between the binomial and Poisson distributions is that the binomial distribution models the number of successes in a fixed number of independent trials,\n",
    "# while the Poisson distribution models the number of rare events that occur in a fixed amount of time or space. The binomial distribution assumes a fixed number of trials \n",
    "# and a constant probability of success, while the Poisson distribution assumes a rare event with an average rate of occurrence."
   ]
  },
  {
   "cell_type": "code",
   "execution_count": 10,
   "id": "0069c500-95ec-4a72-9ed9-bb36a70b4dc9",
   "metadata": {},
   "outputs": [
    {
     "name": "stdout",
     "output_type": "stream",
     "text": [
      "Sample mean:  4.997\n",
      "Sample variance:  5.040991\n"
     ]
    }
   ],
   "source": [
    "import numpy as np\n",
    "\n",
    "# Generate a random sample of size 1000 from a Poisson distribution\n",
    "lam = 5\n",
    "sample = np.random.poisson(lam, size=1000)\n",
    "\n",
    "# Calculate the sample mean and variance\n",
    "sample_mean = np.mean(sample)\n",
    "sample_var = np.var(sample)\n",
    "\n",
    "print(\"Sample mean: \", sample_mean)\n",
    "print(\"Sample variance: \", sample_var)"
   ]
  },
  {
   "cell_type": "code",
   "execution_count": 11,
   "id": "0435c810-c981-444a-8075-9de0c40738d4",
   "metadata": {},
   "outputs": [],
   "source": [
    "# . In the binomial distribution, the mean and variance are related by the formula mean = n * p and variance = n * p * (1 - p), where n is the number of trials and p is the probability of success. \n",
    "# In the Poisson distribution, the mean and variance are equal, and are both equal to the rate parameter lambda."
   ]
  },
  {
   "cell_type": "code",
   "execution_count": 12,
   "id": "82aa844e-c701-46b0-9c5c-47f836c8771b",
   "metadata": {},
   "outputs": [],
   "source": [
    "# In a normal distribution, the least frequent data appears at the tails, which are the farthest distances from the mean. \n",
    "# Specifically, the data becomes less frequent as it moves away from the mean in either direction, with the frequency approaching zero as the distance from the mean becomes large."
   ]
  },
  {
   "cell_type": "code",
   "execution_count": null,
   "id": "eb0fb7da-1f92-44c0-b3ab-f0d44f94289c",
   "metadata": {},
   "outputs": [],
   "source": []
  }
 ],
 "metadata": {
  "kernelspec": {
   "display_name": "Python 3 (ipykernel)",
   "language": "python",
   "name": "python3"
  },
  "language_info": {
   "codemirror_mode": {
    "name": "ipython",
    "version": 3
   },
   "file_extension": ".py",
   "mimetype": "text/x-python",
   "name": "python",
   "nbconvert_exporter": "python",
   "pygments_lexer": "ipython3",
   "version": "3.10.8"
  }
 },
 "nbformat": 4,
 "nbformat_minor": 5
}
