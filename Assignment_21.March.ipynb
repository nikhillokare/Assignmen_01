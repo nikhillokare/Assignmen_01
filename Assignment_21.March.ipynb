{
 "cells": [
  {
   "cell_type": "code",
   "execution_count": 1,
   "id": "9122b7b7-8ce5-41f9-89d5-7d05985f689e",
   "metadata": {},
   "outputs": [],
   "source": [
    "# Ordinal encoding is a type of encoding used for ordinal categorical variables. It assigns a unique numerical value to each category, such that the order of the \n",
    "# values reflects the order of the categories. For example, for a variable \"Education Level\" with categories \"High School\", \"Bachelor's\", \"Master's\", and \"PhD\", \n",
    "# the corresponding ordinal values could be 1, 2, 3, and 4, respectively.\n",
    "\n",
    "# Label encoding, on the other hand, is a type of encoding used for nominal categorical variables. It also assigns a unique numerical value to each category,\n",
    "# but without any ordering. For example, for a variable \"Gender\" with categories \"Male\" and \"Female\", the corresponding label encoding values could be 0 and 1, respectively."
   ]
  },
  {
   "cell_type": "code",
   "execution_count": 2,
   "id": "a39ff04c-cbc8-405d-969b-6adb02311f11",
   "metadata": {},
   "outputs": [],
   "source": [
    "# Target guided ordinal encoding is a type of encoding used for categorical variables, where the encoding values are determined based on the relationship between the variable \n",
    "# and the target variable. It assigns a numerical value to each category such that the value reflects the mean of the target variable for that category. For example, \n",
    "# for a variable \"City\" with categories \"New York\", \"Chicago\", and \"Los Angeles\", the corresponding target guided ordinal encoding values could be the mean of the target variable\n",
    "# (e.g., house price) for each category."
   ]
  },
  {
   "cell_type": "code",
   "execution_count": 3,
   "id": "c1972f9c-e49c-4bcf-b23e-34489142754b",
   "metadata": {},
   "outputs": [],
   "source": [
    "# Covariance is a measure of the linear relationship between two variables. It measures how much two variables change together, and in what direction.\n",
    "# A positive covariance indicates that the two variables tend to increase or decrease together, while a negative covariance indicates that they tend to move in opposite directions.\n",
    "\n",
    "# Covariance is important in statistical analysis because it helps to identify relationships between variables, which can be useful for understanding patterns in data, \n",
    "# making predictions, and building models. However, covariance alone cannot tell us the strength of the relationship between two variables or whether the relationship is causal."
   ]
  },
  {
   "cell_type": "code",
   "execution_count": 4,
   "id": "3b7d7383-7e36-4328-a4d9-a4bb631f2acb",
   "metadata": {},
   "outputs": [],
   "source": [
    "# from sklearn.preprocessing import LabelEncoder\n",
    "# import pandas as pd\n",
    "\n",
    "# data = pd.DataFrame({'Color': ['red', 'green', 'blue', 'blue', 'red'],\n",
    "#                      'Size': ['medium', 'large', 'small', 'medium', 'large'],\n",
    "#                      'Material': ['wood', 'metal', 'plastic', 'plastic', 'metal']})\n",
    "\n",
    "# encoder = LabelEncoder()\n",
    "\n",
    "# data_encoded = data.apply(encoder.fit_transform)\n",
    "\n",
    "# print(data_encoded)\n"
   ]
  },
  {
   "cell_type": "code",
   "execution_count": 5,
   "id": "f3d8c1fd-05ce-43bd-951f-bcb28648e2d9",
   "metadata": {},
   "outputs": [],
   "source": [
    "# import numpy as np\n",
    "\n",
    "# # assume we have a dataset with variables Age, Income, and EducationLevel\n",
    "# data = np.array([[age1, income1, education_level1],\n",
    "#                  [age2, income2, education_level2],\n",
    "#                  ...])\n",
    "\n",
    "# # calculate the covariance matrix\n",
    "# covariance_matrix = np.cov(data, rowvar=False)\n",
    "\n",
    "# # print the covariance matrix\n",
    "# print(covariance_matrix)\n"
   ]
  },
  {
   "cell_type": "code",
   "execution_count": 6,
   "id": "2f4eaa5b-8af4-4ca1-84fd-3a1907bd2be1",
   "metadata": {},
   "outputs": [],
   "source": [
    "# For the categorical variables \"Gender\", \"Education Level\", and \"Employment Status\", we would use different encoding methods depending on the nature of the variable and \n",
    "# the algorithm being used.\n",
    "\n",
    "# For \"Gender\", we could use binary encoding, where Male is represented as 0 and Female is represented as 1. This is appropriate because gender is a binary variable with\n",
    "# only two possible values.\n",
    "\n",
    "# For \"Education Level\", we could use ordinal encoding, where High School is assigned the value 1, Bachelor's is assigned the value 2, Master's is assigned the value 3,\n",
    "# and PhD is assigned the value 4. This is appropriate because there is an inherent order to these levels of education.\n",
    "\n",
    "# For \"Employment Status\", we could use one-hot encoding, where each possible value (Unemployed, Part-Time, Full-Time) is represented by a binary variable. This is\n",
    "# appropriate because there is no inherent order to these values, and we want to avoid creating a false sense of hierarchy by using ordinal encoding.\n",
    "\n"
   ]
  },
  {
   "cell_type": "code",
   "execution_count": 9,
   "id": "433e711f-149b-4460-be25-56c988b1f886",
   "metadata": {},
   "outputs": [],
   "source": [
    "# import numpy as np\n",
    "\n",
    "# # assume we have a dataset with variables Temperature, Humidity, WeatherCondition, and WindDirection\n",
    "# data = np.array([[temp1, humidity1, weather_condition1, wind_direction1],\n",
    "#                  [temp2, humidity2, weather_condition2, wind_direction2],\n",
    "#                  ...])\n",
    "\n",
    "# # calculate the covariance matrix\n",
    "# covariance_matrix = np.cov(data, rowvar=False)\n",
    "\n",
    "# # print the covariance matrix\n",
    "# print(covariance_matrix)"
   ]
  }
 ],
 "metadata": {
  "kernelspec": {
   "display_name": "Python 3 (ipykernel)",
   "language": "python",
   "name": "python3"
  },
  "language_info": {
   "codemirror_mode": {
    "name": "ipython",
    "version": 3
   },
   "file_extension": ".py",
   "mimetype": "text/x-python",
   "name": "python",
   "nbconvert_exporter": "python",
   "pygments_lexer": "ipython3",
   "version": "3.10.8"
  }
 },
 "nbformat": 4,
 "nbformat_minor": 5
}
