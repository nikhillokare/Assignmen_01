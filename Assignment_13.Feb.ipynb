{
 "cells": [
  {
   "cell_type": "code",
   "execution_count": 1,
   "id": "0a76fb56-84b5-4129-ba9c-f9641ba87195",
   "metadata": {},
   "outputs": [],
   "source": [
    "# In Python, it is possible to create custom exceptions by defining new classes that inherit from the base Exception class.\n",
    "# The Exception class provides a set of standard methods and attributes that can be used to create and handle exceptions in a consistent way.\n",
    "# By inheriting from the Exception class, we can leverage this functionality and ensure that our custom exception behaves in the same way as the built-in exceptions.\n",
    "# The Exception class provides a set of standard methods and attributes that can be used to create and handle exceptions in a consistent way. By inheriting from the Exception class, \n",
    "# we can leverage this functionality and ensure that our custom exception behaves in the same way as the built-in exceptions."
   ]
  },
  {
   "cell_type": "code",
   "execution_count": 8,
   "id": "037b00ca-d170-441d-9e76-dbadd2f74e80",
   "metadata": {},
   "outputs": [],
   "source": [
    "import logging\n",
    "\n",
    "logging.basicConfig(filename = 'text.txt', level = logging.ERROR)\n",
    "\n",
    "try:\n",
    "    number = 10/0\n",
    "except ZeroDivisionError as e:\n",
    "    logging.error('Im trying to handle ZeroDivisionError here')\n",
    "    \n",
    "try:\n",
    "    'nik'.test()\n",
    "except AttributeError as e:\n",
    "    logging.error('There is an exception for Attributeerroe')\n",
    "\n",
    "    \n",
    "try:\n",
    "    int = 'String'\n",
    "except (ValueError,TypeError) as e:\n",
    "    logging.Error('This is an ValueError exception hanndled by me')\n",
    "    \n",
    "try:\n",
    "    d = {'key':'Nikhil',1:'[1,2,3,4]'}\n",
    "    print(d['key2'])\n",
    "except KeyError as e:\n",
    "    logging.error('this is a keyerror exception to be handled') \n",
    "    \n",
    "try:\n",
    "    l = [2,3,4,5,6]\n",
    "    print(l[6])\n",
    "except IndexError as e:\n",
    "    logging.error('Index error is not found')    "
   ]
  },
  {
   "cell_type": "code",
   "execution_count": 10,
   "id": "9bcbda49-7e17-4e92-9a62-4011c4a49476",
   "metadata": {},
   "outputs": [],
   "source": [
    "# ZeroDivisionError: This exception is raised when attempting to divide a number by zero. For example\n",
    "# OverflowError: This exception is raised when the result of an arithmetic operation is too large to be represented by the available memory or numeric type. \n",
    "\n",
    "try:\n",
    "    z = 7/0\n",
    "except ZeroDivisionError as e:\n",
    "    logging.error('Im trying to handle ZeroDivisionError here')\n",
    "                  \n",
    "import sys\n",
    "\n",
    "try:\n",
    "    x = sys.maxsize\n",
    "    y = x * x\n",
    "except OverflowError:\n",
    "    logging.error(\"An arithmetic overflow occurred.\")"
   ]
  },
  {
   "cell_type": "code",
   "execution_count": 13,
   "id": "32e0fe68-be30-4f0e-8912-6053ea3e7dc8",
   "metadata": {},
   "outputs": [],
   "source": [
    "# The LookupError class is used to indicate that an index or key used to look up a value in a collection (such as a list or dictionary) is invalid or not found. \n",
    "\n",
    "try:\n",
    "    d = {'name':'aniket','surname':'lokare'}\n",
    "    logging.info('finding a key from dict d', d['age'])\n",
    "except KeyError as e:\n",
    "    logging.error('this is keyerror exception')\n",
    "    \n",
    "    \n",
    "try:\n",
    "    l = [2,3,4,5,6]\n",
    "    print(l[6])\n",
    "except IndexError as e:\n",
    "    logging.error('Index error is not found')"
   ]
  },
  {
   "cell_type": "code",
   "execution_count": 20,
   "id": "1a4d38f7-b218-49a8-ac08-720371d73289",
   "metadata": {},
   "outputs": [],
   "source": [
    "# ImportError is a built-in Python exception that is raised when an imported module, package or attribute cannot be found or loaded. \n",
    "# ModuleNotFoundError is a built-in Python exception that is raised when a module or package could not be found during an import statement.\n",
    "\n",
    "try:\n",
    "    import nik\n",
    "except ImportError as e:\n",
    "    logging.error(' im trying to catch exception of an Import Error')\n",
    "    \n",
    "try:\n",
    "    import NikhilOP\n",
    "except ModuleNotFoundError:\n",
    "    logging.error(\"Error: The required module is not found\")\n",
    "    "
   ]
  },
  {
   "cell_type": "code",
   "execution_count": null,
   "id": "fd53b077-cb6b-4410-8476-dbc75665064c",
   "metadata": {},
   "outputs": [],
   "source": [
    "# 1.Use specific exception classes\n",
    "# 2.Keep try blocks short\n",
    "# 3.Use finally block\n",
    "# 4.Avoid catching Exception\n",
    "# 5.Use logging\n",
    "# 6.Reraise exceptions\n",
    "# 7.Handle exceptions close to the source"
   ]
  }
 ],
 "metadata": {
  "kernelspec": {
   "display_name": "Python 3 (ipykernel)",
   "language": "python",
   "name": "python3"
  },
  "language_info": {
   "codemirror_mode": {
    "name": "ipython",
    "version": 3
   },
   "file_extension": ".py",
   "mimetype": "text/x-python",
   "name": "python",
   "nbconvert_exporter": "python",
   "pygments_lexer": "ipython3",
   "version": "3.10.8"
  }
 },
 "nbformat": 4,
 "nbformat_minor": 5
}
