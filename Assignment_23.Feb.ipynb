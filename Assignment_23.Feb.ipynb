{
 "cells": [
  {
   "cell_type": "code",
   "execution_count": 5,
   "id": "7791ac0b-8245-4b14-a979-c6b8267dd84d",
   "metadata": {},
   "outputs": [
    {
     "name": "stdout",
     "output_type": "stream",
     "text": [
      "0     4\n",
      "1     8\n",
      "2    15\n",
      "3    16\n",
      "4    23\n",
      "5    42\n",
      "dtype: int64\n"
     ]
    }
   ],
   "source": [
    "import pandas as pd\n",
    "\n",
    "data = [4, 8, 15, 16, 23, 42]\n",
    "\n",
    "series = pd.Series(data)\n",
    "\n",
    "print(series)"
   ]
  },
  {
   "cell_type": "code",
   "execution_count": 8,
   "id": "a639a257-8915-4c0f-b66e-fc087247eede",
   "metadata": {},
   "outputs": [
    {
     "name": "stdout",
     "output_type": "stream",
     "text": [
      "0     1\n",
      "1     2\n",
      "2     3\n",
      "3     4\n",
      "4     5\n",
      "5     6\n",
      "6     7\n",
      "7     8\n",
      "8     9\n",
      "9    10\n",
      "dtype: int64\n"
     ]
    }
   ],
   "source": [
    "list = [1,2,3,4,5,6,7,8,9,10]\n",
    "\n",
    "my_list = pd.Series(list)\n",
    "\n",
    "print(my_list)"
   ]
  },
  {
   "cell_type": "code",
   "execution_count": 22,
   "id": "41f335de-49c7-4d8b-8ba8-b7b5471395d9",
   "metadata": {},
   "outputs": [
    {
     "name": "stdout",
     "output_type": "stream",
     "text": [
      "     Name Age  Gender\n",
      "0   Alics  25  Female\n",
      "1     Bob  30    Male\n",
      "2  Claire  37  Female\n"
     ]
    }
   ],
   "source": [
    "data = {'Name':['Alics','Bob','Claire'], \n",
    "        'Age':['25','30','37'], \n",
    "        'Gender':['Female','Male','Female']}\n",
    "\n",
    "dataframe = pd.DataFrame(data)\n",
    "print(dataframe)"
   ]
  },
  {
   "cell_type": "code",
   "execution_count": 23,
   "id": "a0a3f80f-b15a-440e-b94b-3eeb4bd4bf58",
   "metadata": {},
   "outputs": [],
   "source": [
    "# In Pandas, a DataFrame is a two-dimensional labeled data structure that can hold data of various types (numeric, string, boolean, etc.) \n",
    "# in a tabular format consisting of rows and columns. It is a central data structure used in Pandas for data analysis and manipulation.\n",
    "\n",
    "# On the other hand, a Pandas Series is a one-dimensional labeled array that can hold data of any type (numeric, string, boolean, etc.) \n",
    "# and can be accessed using labels or positions. Each element of a Series has a unique index label, which can be used to access the data.\n",
    "\n",
    "# The main difference between a DataFrame and a Series is that a DataFrame consists of multiple columns, each of which can be a Series, \n",
    "# while a Series represents a single column of data. A DataFrame can be thought of as a collection of Series that share the same index, which represents the rows of the DataFrame."
   ]
  },
  {
   "cell_type": "code",
   "execution_count": 25,
   "id": "3de42d71-653e-4acb-a602-28a49001a9dc",
   "metadata": {},
   "outputs": [],
   "source": [
    "# df.head()\n",
    "# df.tail()\n",
    "# df.columns()\n",
    "# df.loc[0:1, 'Name']\n",
    "# df.drop('Occupation', axis=1)\n",
    "# df.groupby('Occupation')['Age'].mean()\n",
    "# merged_df = pd.merge(df1, df2, on='Name')\n",
    "# df.pivot_table(values='Age', index='Occupation', aggfunc='mean')"
   ]
  },
  {
   "cell_type": "code",
   "execution_count": null,
   "id": "6962bcdc-527a-4c7a-96ba-3a9abb04b342",
   "metadata": {},
   "outputs": [],
   "source": [
    "Series and DataFrame are mutable in nature"
   ]
  },
  {
   "cell_type": "code",
   "execution_count": 27,
   "id": "14b2f7ef-0733-4124-8d2b-0e444282e440",
   "metadata": {},
   "outputs": [
    {
     "name": "stdout",
     "output_type": "stream",
     "text": [
      "      Name  Age Occupation\n",
      "0    Alice   25   Engineer\n",
      "1      Bob   30     Doctor\n",
      "2  Charlie   35    Teacher\n"
     ]
    }
   ],
   "source": [
    "import pandas as pd\n",
    "\n",
    "\n",
    "names = pd.Series(['Alice', 'Bob', 'Charlie'])\n",
    "ages = pd.Series([25, 30, 35])\n",
    "occupations = pd.Series(['Engineer', 'Doctor', 'Teacher'])\n",
    "\n",
    "\n",
    "data = {'Name': names, 'Age': ages, 'Occupation': occupations}\n",
    "\n",
    "df = pd.DataFrame(data)\n",
    "\n",
    "print(df)"
   ]
  }
 ],
 "metadata": {
  "kernelspec": {
   "display_name": "Python 3 (ipykernel)",
   "language": "python",
   "name": "python3"
  },
  "language_info": {
   "codemirror_mode": {
    "name": "ipython",
    "version": 3
   },
   "file_extension": ".py",
   "mimetype": "text/x-python",
   "name": "python",
   "nbconvert_exporter": "python",
   "pygments_lexer": "ipython3",
   "version": "3.10.8"
  }
 },
 "nbformat": 4,
 "nbformat_minor": 5
}
